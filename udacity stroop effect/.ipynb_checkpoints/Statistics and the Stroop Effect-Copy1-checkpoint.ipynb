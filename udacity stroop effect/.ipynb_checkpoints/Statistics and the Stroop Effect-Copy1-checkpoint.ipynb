{
 "cells": [
  {
   "cell_type": "markdown",
   "metadata": {},
   "source": [
    "Statistics: The Science of Decisions Project Instructions\n",
    "\n",
    "Background Information\n",
    "\n",
    "In a Stroop task, participants are presented with a list of words, with each word displayed in a color of ink. The participant’s task is to say out loud the color of the ink in which the word is printed. The task has two conditions: a congruent words condition, and an incongruent words condition. In the congruent words condition, the words being displayed are color words whose names match the colors in which they are printed: for example RED, BLUE. In the incongruent words condition, the words displayed are color words whose names do not match the colors in which they are printed: for example PURPLE, ORANGE. In each case, we measure the time it takes to name the ink colors in equally-sized lists. Each participant will go through and record a time from each condition."
   ]
  },
  {
   "cell_type": "markdown",
   "metadata": {},
   "source": [
    "As a general note, be sure to keep a record of any resources that you use or refer to in the creation of your project. You will need to report your sources as part of the project submission."
   ]
  },
  {
   "cell_type": "markdown",
   "metadata": {},
   "source": [
    "1) \n",
    "\n",
    "What is our independent variable? The independent variable is the type of colored words: either congruent (meaning of word matches the ink color) or incongruent (meaning of word does not match ink color).\n",
    "\n",
    "What is our dependent variable? The dependent variable is the time it takes (in seconds) for a person to correctly name the ink color of the list of words."
   ]
  },
  {
   "cell_type": "markdown",
   "metadata": {},
   "source": [
    "2)\n",
    "\n",
    "What is an appropriate set of hypotheses for this task? \n",
    "The null hypothesis is that the incongruent task takes the same amount of time or less.  The alternative hypothesis is that it takes significantly more time to complete the incongruent task compared to the congruent task.  I'm choosing a one-sided test because I'm expecting that an incongruent task is more likely to take more time rather than less time.\n",
    "\n",
    "What kind of statistical test do you expect to perform? Justify your choices.  \n",
    "I'm choosing to perform a t-test on the dependent samples, as there are two treatments applied to the same test subjects.  Since we are working with sample data, and do not have population data, we will use the t-distribution when deciding whether the test results of the two treatments are significantly different from another (or not)."
   ]
  },
  {
   "cell_type": "markdown",
   "metadata": {},
   "source": [
    "Now it’s your chance to try out the Stroop task for yourself. Go to this link, which has a Java-based applet for performing the Stroop task. Record the times that you received on the task (you do not need to submit your times to the site.) Now, download this dataset which contains results from a number of participants in the task. Each row of the dataset contains the performance for one participant, with the first number their results on the congruent task and the second number their performance on the incongruent task."
   ]
  },
  {
   "cell_type": "code",
   "execution_count": 148,
   "metadata": {
    "collapsed": true
   },
   "outputs": [],
   "source": [
    "import pandas as pd\n",
    "from scipy import stats\n",
    "import numpy as np\n",
    "import matplotlib.pyplot as plt\n",
    "import seaborn as sns\n",
    "%matplotlib inline  "
   ]
  },
  {
   "cell_type": "code",
   "execution_count": 159,
   "metadata": {
    "collapsed": false
   },
   "outputs": [],
   "source": [
    "file_name = './stroopdata.csv'\n",
    "df_raw = pd.read_csv(file_name)"
   ]
  },
  {
   "cell_type": "code",
   "execution_count": 161,
   "metadata": {
    "collapsed": false
   },
   "outputs": [
    {
     "data": {
      "text/html": [
       "<div>\n",
       "<table border=\"1\" class=\"dataframe\">\n",
       "  <thead>\n",
       "    <tr style=\"text-align: right;\">\n",
       "      <th></th>\n",
       "      <th>Congruent</th>\n",
       "      <th>Incongruent</th>\n",
       "      <th>Difference</th>\n",
       "    </tr>\n",
       "  </thead>\n",
       "  <tbody>\n",
       "    <tr>\n",
       "      <th>count</th>\n",
       "      <td>24.000000</td>\n",
       "      <td>24.000000</td>\n",
       "      <td>24.000000</td>\n",
       "    </tr>\n",
       "    <tr>\n",
       "      <th>mean</th>\n",
       "      <td>14.051125</td>\n",
       "      <td>22.015917</td>\n",
       "      <td>7.964792</td>\n",
       "    </tr>\n",
       "    <tr>\n",
       "      <th>std</th>\n",
       "      <td>3.559358</td>\n",
       "      <td>4.797057</td>\n",
       "      <td>4.864827</td>\n",
       "    </tr>\n",
       "    <tr>\n",
       "      <th>min</th>\n",
       "      <td>8.630000</td>\n",
       "      <td>15.687000</td>\n",
       "      <td>1.950000</td>\n",
       "    </tr>\n",
       "    <tr>\n",
       "      <th>25%</th>\n",
       "      <td>11.895250</td>\n",
       "      <td>18.716750</td>\n",
       "      <td>3.645500</td>\n",
       "    </tr>\n",
       "    <tr>\n",
       "      <th>50%</th>\n",
       "      <td>14.356500</td>\n",
       "      <td>21.017500</td>\n",
       "      <td>7.666500</td>\n",
       "    </tr>\n",
       "    <tr>\n",
       "      <th>75%</th>\n",
       "      <td>16.200750</td>\n",
       "      <td>24.051500</td>\n",
       "      <td>10.258500</td>\n",
       "    </tr>\n",
       "    <tr>\n",
       "      <th>max</th>\n",
       "      <td>22.328000</td>\n",
       "      <td>35.255000</td>\n",
       "      <td>21.919000</td>\n",
       "    </tr>\n",
       "  </tbody>\n",
       "</table>\n",
       "</div>"
      ],
      "text/plain": [
       "       Congruent  Incongruent  Difference\n",
       "count  24.000000    24.000000   24.000000\n",
       "mean   14.051125    22.015917    7.964792\n",
       "std     3.559358     4.797057    4.864827\n",
       "min     8.630000    15.687000    1.950000\n",
       "25%    11.895250    18.716750    3.645500\n",
       "50%    14.356500    21.017500    7.666500\n",
       "75%    16.200750    24.051500   10.258500\n",
       "max    22.328000    35.255000   21.919000"
      ]
     },
     "execution_count": 161,
     "metadata": {},
     "output_type": "execute_result"
    }
   ],
   "source": [
    "df = df_raw\n",
    "df['Difference'] = df['Incongruent'] - df['Congruent']\n",
    "df.describe()"
   ]
  },
  {
   "cell_type": "markdown",
   "metadata": {},
   "source": [
    "3. Report some descriptive statistics regarding this dataset. Include at least one measure of central tendency and at least one measure of variability."
   ]
  },
  {
   "cell_type": "code",
   "execution_count": 31,
   "metadata": {
    "collapsed": false
   },
   "outputs": [
    {
     "data": {
      "text/plain": [
       "Congruent      14.051125\n",
       "Incongruent    22.015917\n",
       "Difference      7.964792\n",
       "dtype: float64"
      ]
     },
     "execution_count": 31,
     "metadata": {},
     "output_type": "execute_result"
    }
   ],
   "source": [
    "mean_series = np.mean(df,axis=0)\n",
    "mean_series"
   ]
  },
  {
   "cell_type": "code",
   "execution_count": 141,
   "metadata": {
    "collapsed": false
   },
   "outputs": [
    {
     "data": {
      "text/plain": [
       "Congruent      3.559358\n",
       "Incongruent    4.797057\n",
       "Difference     4.864827\n",
       "dtype: float64"
      ]
     },
     "execution_count": 141,
     "metadata": {},
     "output_type": "execute_result"
    }
   ],
   "source": [
    "std_series = np.std(df,axis=0,ddof=1) #use 1 deg of freedom to divide by N-1 (estimate population's std from a sample)\n",
    "std_series"
   ]
  },
  {
   "cell_type": "markdown",
   "metadata": {},
   "source": [
    "The mean of Congruent vs. Incongruent test time is 14 vs. 22 seconds, respectively.  The standard deviation of Congruent vs. Incongruent are 3.5 vs. 4.7 seconds, respectively."
   ]
  },
  {
   "cell_type": "markdown",
   "metadata": {},
   "source": [
    "4)\n",
    "Provide one or two visualizations that show the distribution of the sample data. Write one or two sentences noting what you observe about the plot or plots."
   ]
  },
  {
   "cell_type": "code",
   "execution_count": 92,
   "metadata": {
    "collapsed": false
   },
   "outputs": [
    {
     "data": {
      "text/plain": [
       "<matplotlib.text.Text at 0x12012e9d0>"
      ]
     },
     "execution_count": 92,
     "metadata": {},
     "output_type": "execute_result"
    },
    {
     "data": {
      "image/png": "[encoded data removed]",
      "text/plain": [
       "<matplotlib.figure.Figure at 0x12014f1d0>"
      ]
     },
     "metadata": {},
     "output_type": "display_data"
    }
   ],
   "source": [
    "plt.hist(df['Congruent'],color='steelblue',alpha=0.4,range=[0,40],bins=40)\n",
    "plt.hist(df['Incongruent'],color='indianred',alpha=0.4,range=[0,40],bins=40)\n",
    "plt.title('Congruent (blue) vs. Incongruent (red)')\n",
    "plt.xlabel('time (seconds)')\n",
    "plt.ylabel('count')"
   ]
  },
  {
   "cell_type": "markdown",
   "metadata": {},
   "source": [
    "The most common time for congruent is 13 seconds; most common for incongruent is either 18 or 20 seconds).\n",
    "The distributions are somewhat normal, with more congruent times being less than most incongruent times."
   ]
  },
  {
   "cell_type": "markdown",
   "metadata": {},
   "source": [
    "5) Now, perform the statistical test and report your results. What is your confidence level and your critical statistic value? Do you reject the null hypothesis or fail to reject it? Come to a conclusion in terms of the experiment task. Did the results match up with your expectations?"
   ]
  },
  {
   "cell_type": "code",
   "execution_count": 143,
   "metadata": {
    "collapsed": false
   },
   "outputs": [],
   "source": [
    "mean_diff = mean_series['Difference']\n",
    "std_diff = std_series['Difference']\n",
    "sample_size = len(df)\n",
    "deg_free = sample_size - 1 \n",
    "stderr_diff = std_diff / np.sqrt(sample_size)\n",
    "t_stat_diff = (mean_diff - 0.) / stderr_diff\n",
    "#the t-critical value for p of .05, with 23 degrees of freedom\n",
    "t_critL, t_critR, t_crit_upper = stats.t.ppf([.025,.975,.95],deg_free) #http://docs.scipy.org/doc/scipy-0.14.0/reference/generated/scipy.stats.t.html\n",
    "CI_left = mean_diff + t_critL*stderr_diff\n",
    "CI_right = mean_diff + t_critR*stderr_diff\n",
    "pval = stats.t.sf(np.abs(t_stat_diff), deg_free)"
   ]
  },
  {
   "cell_type": "code",
   "execution_count": 158,
   "metadata": {
    "collapsed": false
   },
   "outputs": [
    {
     "name": "stdout",
     "output_type": "stream",
     "text": [
      "Statistics for the Difference (Incongruent minus Congruent):\n",
      "sample size 24, degrees of freedom 23\n",
      "mean: 7.965, sample standard deviation 4.865, standard error 0.993\n",
      "t-critical left -2.069, t-critical right 2.069, t-critical for one-sided test 1.714 \n",
      "t-statistic 8.021 and p-value 0.00000\n"
     ]
    }
   ],
   "source": [
    "stat_str = \"Statistics for the Difference (Incongruent minus Congruent):\"\n",
    "stat_str += \"\\nsample size {}, degrees of freedom {}\".format(sample_size,deg_free)\n",
    "stat_str += \"\\nmean: {:.3f}, sample standard deviation {:.3f}, standard error {:.3f}\".format(mean_diff,std_diff,stderr_diff)\n",
    "stat_str += \"\\nt-critical left {:.3f}, t-critical right {:.3f}, t-critical for one-sided test {:.3f} \".format(t_critL,t_critR,t_crit_upper)\n",
    "stat_str += \"\\nt-statistic {:.3f} and p-value {:.5f}\".format(t_stat_diff,pval)\n",
    "print stat_str"
   ]
  },
  {
   "cell_type": "code",
   "execution_count": 149,
   "metadata": {
    "collapsed": false
   },
   "outputs": [
    {
     "data": {
      "text/plain": [
       "<matplotlib.text.Text at 0x120417ed0>"
      ]
     },
     "execution_count": 149,
     "metadata": {},
     "output_type": "execute_result"
    },
    {
     "data": {
      "image/png": "[encoded data removed]",
      "text/plain": [
       "<matplotlib.figure.Figure at 0x12358f410>"
      ]
     },
     "metadata": {},
     "output_type": "display_data"
    }
   ],
   "source": [
    "plt.hist(df['Difference'],range=[-25,25],color='steelblue',alpha=0.3,bins=50)\n",
    "plt.vlines(x=mean_diff,ymin=0,ymax=5,color='black',alpha=0.8)\n",
    "plt.vlines(x=[CI_left,CI_right],ymin=0,ymax=5,color='indianred',alpha=0.8)\n",
    "plt.title('Histogram of Difference with Mean (black) and 95% Confidence Intervals (red)')\n",
    "plt.xlabel(\"Difference in time (Incongruent minus Congruent) in seconds\")\n",
    "plt.ylabel(\"Count of subjects for blue histogram bars\")"
   ]
  },
  {
   "cell_type": "markdown",
   "metadata": {},
   "source": [
    "For a one-sided t-test of the difference in times (Incongruent minus Congruent), the t-critical value for a 5% probability is 1.714.  The t-statistic is 8.021, which is greater than the t-critial value, and the p-value is nearly zero.  So we can reject the null hypothesis that the difference is less than or equal to zero.  The Incongruent times are significantly longer than the Congruent times.  \n",
    "\n",
    "Also, a plot of the confidence intervals at 95% confidence shows that both the left and right interval are greater than zero.\n",
    "\n",
    "The results were in line with my original expectations."
   ]
  },
  {
   "cell_type": "markdown",
   "metadata": {},
   "source": [
    "6) Optional: What do you think is responsible for the effects observed? Can you think of an alternative or similar task that would result in a similar effect? Some research about the problem will be helpful for thinking about these two questions!"
   ]
  },
  {
   "cell_type": "markdown",
   "metadata": {},
   "source": [
    "The brain has learned to recognize words with specific meaning, so when we attempt to recognize the color, we are also automatically recognizing the meaning of the word.  When the word/color combination is incongruent, then we're receiving two competing signals, which makes the task take more time to process.\n",
    "\n",
    "Possible similar studies might combine sight and sound.  For instance, pair images of musical instruments with sounds of musical instruments, and make them congruent on incongruent.  Then ask the person to look at the image and name the instrument that they hear.  Or record video of faces that are repeating a sound, while overlaying sound of the person saying different but similar sounds.  Ask the subject to identify the sound that they hear while watching the video of the speaker's mouth moving.  \n",
    "\n",
    "https://en.wikipedia.org/wiki/McGurk_effect"
   ]
  },
  {
   "cell_type": "code",
   "execution_count": null,
   "metadata": {
    "collapsed": true
   },
   "outputs": [],
   "source": []
  }
 ],
 "metadata": {
  "kernelspec": {
   "display_name": "Python [Root]",
   "language": "python",
   "name": "Python [Root]"
  },
  "language_info": {
   "codemirror_mode": {
    "name": "ipython",
    "version": 2
   },
   "file_extension": ".py",
   "mimetype": "text/x-python",
   "name": "python",
   "nbconvert_exporter": "python",
   "pygments_lexer": "ipython2",
   "version": "2.7.12"
  }
 },
 "nbformat": 4,
 "nbformat_minor": 0
}
