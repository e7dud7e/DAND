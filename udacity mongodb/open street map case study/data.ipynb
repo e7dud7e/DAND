{
 "cells": [
  {
   "cell_type": "code",
   "execution_count": 30,
   "metadata": {
    "collapsed": true
   },
   "outputs": [],
   "source": [
    "#!/usr/bin/env python\n",
    "# -*- coding: utf-8 -*-\n",
    "import xml.etree.cElementTree as ET\n",
    "import pprint\n",
    "import re\n",
    "import codecs\n",
    "import json\n",
    "import collections"
   ]
  },
  {
   "cell_type": "code",
   "execution_count": null,
   "metadata": {
    "collapsed": true
   },
   "outputs": [],
   "source": [
    "\n",
    "\"\"\"\n",
    "Your task is to wrangle the data and transform the shape of the data\n",
    "into the model we mentioned earlier. The output should be a list of dictionaries\n",
    "that look like this:\n",
    "\n",
    "{\n",
    "\"id\": \"2406124091\",\n",
    "\"type: \"node\",\n",
    "\"visible\":\"true\",\n",
    "\"created\": {\n",
    "          \"version\":\"2\",\n",
    "          \"changeset\":\"17206049\",\n",
    "          \"timestamp\":\"2013-08-03T16:43:42Z\",\n",
    "          \"user\":\"linuxUser16\",\n",
    "          \"uid\":\"1219059\"\n",
    "        },\n",
    "\"pos\": [41.9757030, -87.6921867],\n",
    "\"address\": {\n",
    "          \"housenumber\": \"5157\",\n",
    "          \"postcode\": \"60625\",\n",
    "          \"street\": \"North Lincoln Ave\"\n",
    "        },\n",
    "\"amenity\": \"restaurant\",\n",
    "\"cuisine\": \"mexican\",\n",
    "\"name\": \"La Cabana De Don Luis\",\n",
    "\"phone\": \"1 (773)-271-5176\"\n",
    "}\n",
    "\n",
    "You have to complete the function 'shape_element'.\n",
    "We have provided a function that will parse the map file, and call the function with the element\n",
    "as an argument. You should return a dictionary, containing the shaped data for that element.\n",
    "We have also provided a way to save the data in a file, so that you could use\n",
    "mongoimport later on to import the shaped data into MongoDB. \n",
    "\n",
    "Note that in this exercise we do not use the 'update street name' procedures\n",
    "you worked on in the previous exercise. If you are using this code in your final\n",
    "project, you are strongly encouraged to use the code from previous exercise to \n",
    "update the street names before you save them to JSON. \n",
    "\n",
    "In particular the following things should be done:\n",
    "- you should process only 2 types of top level tags: \"node\" and \"way\"\n",
    "- all attributes of \"node\" and \"way\" should be turned into regular key/value pairs, except:\n",
    "    - attributes in the CREATED array should be added under a key \"created\"\n",
    "    - attributes for latitude and longitude should be added to a \"pos\" array,\n",
    "      for use in geospacial indexing. Make sure the values inside \"pos\" array are floats\n",
    "      and not strings. \n",
    "- if the second level tag \"k\" value contains problematic characters, it should be ignored\n",
    "- if the second level tag \"k\" value starts with \"addr:\", it should be added to a dictionary \"address\"\n",
    "- if the second level tag \"k\" value does not start with \"addr:\", but contains \":\", you can\n",
    "  process it in a way that you feel is best. For example, you might split it into a two-level\n",
    "  dictionary like with \"addr:\", or otherwise convert the \":\" to create a valid key.\n",
    "- if there is a second \":\" that separates the type/direction of a street,\n",
    "  the tag should be ignored, for example:\n",
    "\n",
    "<tag k=\"addr:housenumber\" v=\"5158\"/>\n",
    "<tag k=\"addr:street\" v=\"North Lincoln Avenue\"/>\n",
    "<tag k=\"addr:street:name\" v=\"Lincoln\"/>\n",
    "<tag k=\"addr:street:prefix\" v=\"North\"/>\n",
    "<tag k=\"addr:street:type\" v=\"Avenue\"/>\n",
    "<tag k=\"amenity\" v=\"pharmacy\"/>\n",
    "\n",
    "  should be turned into:\n",
    "\n",
    "{...\n",
    "\"address\": {\n",
    "    \"housenumber\": 5158,\n",
    "    \"street\": \"North Lincoln Avenue\"\n",
    "}\n",
    "\"amenity\": \"pharmacy\",\n",
    "...\n",
    "}\n",
    "\n",
    "- for \"way\" specifically:\n",
    "\n",
    "  <nd ref=\"305896090\"/>\n",
    "  <nd ref=\"1719825889\"/>\n",
    "\n",
    "should be turned into\n",
    "\"node_refs\": [\"305896090\", \"1719825889\"]\n",
    "\"\"\""
   ]
  },
  {
   "cell_type": "markdown",
   "metadata": {},
   "source": [
    "https://docs.python.org/2/library/xml.etree.elementtree.html\n",
    "\n",
    "attrib\n",
    "A dictionary containing the element’s attributes. Note that while the attrib value is always a real mutable Python dictionary, an ElementTree implementation may choose to use another internal representation, and create the dictionary only if someone asks for it. To take advantage of such implementations, use the dictionary methods below whenever possible.\n",
    "\n",
    "The following dictionary-like methods work on the element attributes.\n",
    "\n",
    "clear()\n",
    "Resets an element. This function removes all subelements, clears all attributes, and sets the text and tail attributes to None.\n",
    "\n",
    "get(key, default=None)\n",
    "Gets the element attribute named key.\n",
    "\n",
    "Returns the attribute value, or default if the attribute was not found.\n",
    "\n",
    "items()\n",
    "Returns the element attributes as a sequence of (name, value) pairs. The attributes are returned in an arbitrary order.\n",
    "\n",
    "keys()\n",
    "Returns the elements attribute names as a list. The names are returned in an arbitrary order.\n",
    "\n",
    "set(key, value)\n",
    "Set the attribute key on the element to value."
   ]
  },
  {
   "cell_type": "code",
   "execution_count": 40,
   "metadata": {
    "collapsed": true
   },
   "outputs": [],
   "source": [
    "lower = re.compile(r'^([a-z]|_)*$')\n",
    "lower_colon = re.compile(r'^([a-z]|_)*:([a-z]|_)*$')\n",
    "problemchars = re.compile(r'[=\\+/&<>;\\'\"\\?%#$@\\,\\. \\t\\r\\n]')\n",
    "\n",
    "CREATED = [ \"version\", \"changeset\", \"timestamp\", \"user\", \"uid\"]\n",
    "POS = [\"lon\", \"lat\"]"
   ]
  },
  {
   "cell_type": "code",
   "execution_count": 94,
   "metadata": {
    "collapsed": false
   },
   "outputs": [],
   "source": [
    "cnt = 0\n",
    "break_out = False\n",
    "for event, element in ET.iterparse('example.osm'):\n",
    "    #if element.tag == \"node\" or element.tag == \"way\":\n",
    "    if element.tag == \"node\":\n",
    "        for c in element.getchildren():\n",
    "            if 'addr:city' in c.attrib.values():\n",
    "                break_out = True\n",
    "                break\n",
    "        cnt = cnt + 1\n",
    "        if break_out:\n",
    "            break\n",
    "    if cnt > 500:\n",
    "        break  "
   ]
  },
  {
   "cell_type": "code",
   "execution_count": 96,
   "metadata": {
    "collapsed": false
   },
   "outputs": [
    {
     "data": {
      "text/plain": [
       "[('changeset', '17206049'),\n",
       " ('uid', '1219059'),\n",
       " ('timestamp', '2013-08-03T16:43:42Z'),\n",
       " ('lon', '-87.6921867'),\n",
       " ('visible', 'true'),\n",
       " ('version', '2'),\n",
       " ('user', 'linuxUser16'),\n",
       " ('lat', '41.9757030'),\n",
       " ('id', '2406124091')]"
      ]
     },
     "execution_count": 96,
     "metadata": {},
     "output_type": "execute_result"
    }
   ],
   "source": [
    "element.attrib.items()"
   ]
  },
  {
   "cell_type": "code",
   "execution_count": 108,
   "metadata": {
    "collapsed": false,
    "scrolled": true
   },
   "outputs": [
    {
     "name": "stdout",
     "output_type": "stream",
     "text": [
      "addr:city : Chicago\n",
      "addr:housenumber : 5157\n",
      "addr:postcode : 60625\n",
      "addr:street : North Lincoln Ave\n",
      "{'addr_city': 'Chicago', 'created': {'changeset': '3061377', 'user': 'StellanL', 'version': '8', 'uid': '28775', 'timestamp': '2009-11-08T08:11:05Z'}, 'addr_postcode': '60625', 'addr_street': 'North Lincoln Ave', 'pos': ['-122.2948711', '37.5280244'], 'addr_housenumber': '5157', 'address': {'city': 'Chicago', 'street': 'North Lincoln Ave', 'housenumber': '5157', 'postcode': '60625'}, 'type': 'node'}\n"
     ]
    }
   ],
   "source": [
    "for c in element.getchildren():\n",
    "    if c.tag == 'tag':\n",
    "        key = c.get('k')\n",
    "        val = c.get('v')\n",
    "        if key.startswith('addr:'):\n",
    "            print \"{} : {}\".format(key,val)\n",
    "            key_list = key.split(':')\n",
    "            if len(key_list) ==2:\n",
    "                node['address'][key_list[1]] = val\n",
    "            continue\n",
    "        #check for special characters\n",
    "        m = problemchars.search(key)\n",
    "        if m:\n",
    "            print 'problem char found {}'.format(m.group(0))\n",
    "            continue\n",
    "        #replace ':' with '_' to use as key\n",
    "        m = lower_colon.search(key)\n",
    "        if m:\n",
    "            key = key.replace(':','_')\n",
    "            node[key] = val\n",
    "    elif c.tag == 'nd':\n",
    "        node['reference'] = c.get['ref']\n",
    "\n",
    "print node"
   ]
  },
  {
   "cell_type": "code",
   "execution_count": 9,
   "metadata": {
    "collapsed": false
   },
   "outputs": [
    {
     "data": {
      "text/plain": [
       "[('changeset', '3061377'),\n",
       " ('uid', '28775'),\n",
       " ('timestamp', '2009-11-08T08:11:05Z'),\n",
       " ('lon', '-122.2948711'),\n",
       " ('version', '8'),\n",
       " ('user', 'StellanL'),\n",
       " ('lat', '37.5280244'),\n",
       " ('id', '281393')]"
      ]
     },
     "execution_count": 9,
     "metadata": {},
     "output_type": "execute_result"
    }
   ],
   "source": [
    "element.items() #returns a list"
   ]
  },
  {
   "cell_type": "code",
   "execution_count": 16,
   "metadata": {
    "collapsed": false
   },
   "outputs": [
    {
     "data": {
      "text/plain": [
       "{'changeset': '3061377',\n",
       " 'id': '281393',\n",
       " 'lat': '37.5280244',\n",
       " 'lon': '-122.2948711',\n",
       " 'timestamp': '2009-11-08T08:11:05Z',\n",
       " 'uid': '28775',\n",
       " 'user': 'StellanL',\n",
       " 'version': '8'}"
      ]
     },
     "execution_count": 16,
     "metadata": {},
     "output_type": "execute_result"
    }
   ],
   "source": [
    "element.attrib #returns dictionary"
   ]
  },
  {
   "cell_type": "code",
   "execution_count": 73,
   "metadata": {
    "collapsed": false
   },
   "outputs": [
    {
     "name": "stdout",
     "output_type": "stream",
     "text": [
      "changeset\n",
      "6777070\n",
      "uid\n",
      "14293\n",
      "timestamp\n",
      "2010-12-27T12:28:53Z\n",
      "lon\n",
      "-122.0315503\n",
      "version\n",
      "18\n",
      "user\n",
      "KindredCoda\n",
      "lat\n",
      "37.3673202\n",
      "id\n",
      "26027702\n"
     ]
    }
   ],
   "source": [
    "for k,v in element.attrib.items():\n",
    "    print k\n",
    "    print v"
   ]
  },
  {
   "cell_type": "code",
   "execution_count": 21,
   "metadata": {
    "collapsed": false
   },
   "outputs": [
    {
     "data": {
      "text/plain": [
       "'281393'"
      ]
     },
     "execution_count": 21,
     "metadata": {},
     "output_type": "execute_result"
    }
   ],
   "source": [
    "element.get('id')"
   ]
  },
  {
   "cell_type": "code",
   "execution_count": 41,
   "metadata": {
    "collapsed": true
   },
   "outputs": [],
   "source": [
    "node = {}"
   ]
  },
  {
   "cell_type": "code",
   "execution_count": 24,
   "metadata": {
    "collapsed": false
   },
   "outputs": [
    {
     "name": "stdout",
     "output_type": "stream",
     "text": [
      "['changeset', 'uid', 'timestamp', 'lon', 'version', 'user', 'lat', 'id']\n"
     ]
    }
   ],
   "source": [
    "attrib_list = element.keys()\n",
    "print attrib_list"
   ]
  },
  {
   "cell_type": "code",
   "execution_count": 43,
   "metadata": {
    "collapsed": false
   },
   "outputs": [
    {
     "name": "stdout",
     "output_type": "stream",
     "text": [
      "{'address': {}, 'pos': [], 'created': {}}\n"
     ]
    }
   ],
   "source": [
    "node['created'] = dict()\n",
    "node['pos'] = list()\n",
    "node['address'] = dict()\n",
    "print node"
   ]
  },
  {
   "cell_type": "code",
   "execution_count": 45,
   "metadata": {
    "collapsed": false
   },
   "outputs": [
    {
     "name": "stdout",
     "output_type": "stream",
     "text": [
      "{'address': {}, 'pos': ['-122.2948711', '37.5280244'], 'created': {'changeset': '3061377', 'user': 'StellanL', 'version': '8', 'uid': '28775', 'timestamp': '2009-11-08T08:11:05Z'}}\n"
     ]
    }
   ],
   "source": [
    "for a in attrib_list:\n",
    "    if a in CREATED:\n",
    "        node['created'][a] = element.get(a)\n",
    "    elif a in POS:\n",
    "        if a == 'lon':\n",
    "            node['pos'].insert(0,element.get('lon'))\n",
    "        elif a == 'lat':\n",
    "            node['pos'].append(element.get('lat'))\n",
    "\n",
    "print node"
   ]
  },
  {
   "cell_type": "code",
   "execution_count": 46,
   "metadata": {
    "collapsed": false
   },
   "outputs": [
    {
     "name": "stdout",
     "output_type": "stream",
     "text": [
      "{'address': {}, 'type': 'node', 'pos': ['-122.2948711', '37.5280244'], 'created': {'changeset': '3061377', 'user': 'StellanL', 'version': '8', 'uid': '28775', 'timestamp': '2009-11-08T08:11:05Z'}}\n"
     ]
    }
   ],
   "source": [
    "node['type'] = element.tag\n",
    "print node"
   ]
  },
  {
   "cell_type": "code",
   "execution_count": 50,
   "metadata": {
    "collapsed": true
   },
   "outputs": [],
   "source": [
    "#get child tags\n",
    "for c in element.getchildren():\n",
    "    print c"
   ]
  },
  {
   "cell_type": "code",
   "execution_count": 152,
   "metadata": {
    "collapsed": false
   },
   "outputs": [],
   "source": [
    "def shape_element(element):\n",
    "    POS = [\"lon\", \"lat\"]\n",
    "    node = None\n",
    "    if element.tag == \"node\" or element.tag == \"way\" :\n",
    "        node = { 'created': dict(),\n",
    "                 'pos': list(),\n",
    "                 'address': dict(),\n",
    "                 'node_refs': list()}\n",
    "        # YOUR CODE HERE\n",
    "        node['type'] = element.tag\n",
    "        attrib_list = element.keys()\n",
    "        #process attributes of the top level element (node or way)\n",
    "        for a in attrib_list:\n",
    "            if a in CREATED:\n",
    "                node['created'][a] = element.get(a)\n",
    "            elif a in POS:\n",
    "                if a == 'lat':\n",
    "                    node['pos'].insert(0,float(element.get('lat')))\n",
    "                elif a == 'lon':\n",
    "                    node['pos'].append(float(element.get('lon')))\n",
    "            else:\n",
    "                node[a] = element.get(a)\n",
    "\n",
    "        #process child elements (may be tag, nd )\n",
    "        for c in element.getchildren():\n",
    "            if c.tag == 'tag':\n",
    "                key = c.get('k')\n",
    "                val = c.get('v')\n",
    "                if key.startswith('addr:'):\n",
    "                    #print \"{} : {}\".format(key,val)\n",
    "                    key_list = key.split(':')\n",
    "                    if len(key_list) ==2:\n",
    "                        node['address'][key_list[1]] = val\n",
    "                    continue\n",
    "                #check for special characters\n",
    "                m = problemchars.search(key)\n",
    "                if m:\n",
    "                    print 'problem char found {}'.format(m.group(0))\n",
    "                    continue\n",
    "                #replace ':' with '_' to use as key\n",
    "                m = lower_colon.search(key)\n",
    "                if m:\n",
    "                    key = key.replace(':','_')\n",
    "                    node[key] = val\n",
    "            elif c.tag == 'nd':\n",
    "                node['node_refs'].append(c.get('ref'))\n",
    "        if not node['created']:\n",
    "            del node['created']\n",
    "        if not node['pos']:\n",
    "            del node['pos']\n",
    "        if not node['address']:\n",
    "            del node['address']\n",
    "        if not node['node_refs']:\n",
    "            del node['node_refs']\n",
    "    return node"
   ]
  },
  {
   "cell_type": "code",
   "execution_count": 148,
   "metadata": {
    "collapsed": true
   },
   "outputs": [],
   "source": [
    "def process_map(file_in, pretty = False):\n",
    "    # You do not need to change this file\n",
    "    file_out = \"{0}.json\".format(file_in)\n",
    "    data = []\n",
    "    with codecs.open(file_out, \"w\") as fo:\n",
    "        for _, element in ET.iterparse(file_in):\n",
    "            el = shape_element(element)\n",
    "            if el:\n",
    "                data.append(el)\n",
    "                if pretty:\n",
    "                    fo.write(json.dumps(el, indent=2)+\"\\n\")\n",
    "                else:\n",
    "                    fo.write(json.dumps(el) + \"\\n\")\n",
    "    return data"
   ]
  },
  {
   "cell_type": "code",
   "execution_count": 143,
   "metadata": {
    "collapsed": true
   },
   "outputs": [],
   "source": [
    "def test():\n",
    "    # NOTE: if you are running this code on your computer, with a larger dataset, \n",
    "    # call the process_map procedure with pretty=False. The pretty=True option adds \n",
    "    # additional spaces to the output, making it significantly larger.\n",
    "    data = process_map('example.osm', True)\n",
    "    pprint.pprint(data)\n",
    "    \n",
    "    correct_first_elem = {\n",
    "        \"id\": \"261114295\", \n",
    "        \"visible\": \"true\", \n",
    "        \"type\": \"node\", \n",
    "        \"pos\": [41.9730791, -87.6866303], \n",
    "        \"created\": {\n",
    "            \"changeset\": \"11129782\", \n",
    "            \"user\": \"bbmiller\", \n",
    "            \"version\": \"7\", \n",
    "            \"uid\": \"451048\", \n",
    "            \"timestamp\": \"2012-03-28T18:31:23Z\"\n",
    "        }\n",
    "    }\n",
    "    assert data[0] == correct_first_elem\n",
    "    assert data[-1][\"address\"] == {\n",
    "                                    \"street\": \"West Lexington St.\", \n",
    "                                    \"housenumber\": \"1412\"\n",
    "                                      }\n",
    "    assert data[-1][\"node_refs\"] == [ \"2199822281\", \"2199822390\",  \"2199822392\", \"2199822369\", \n",
    "                                    \"2199822370\", \"2199822284\", \"2199822281\"]"
   ]
  },
  {
   "cell_type": "code",
   "execution_count": 153,
   "metadata": {
    "collapsed": false
   },
   "outputs": [
    {
     "name": "stdout",
     "output_type": "stream",
     "text": [
      "[{'created': {'changeset': '11129782',\n",
      "              'timestamp': '2012-03-28T18:31:23Z',\n",
      "              'uid': '451048',\n",
      "              'user': 'bbmiller',\n",
      "              'version': '7'},\n",
      "  'id': '261114295',\n",
      "  'pos': [41.9730791, -87.6866303],\n",
      "  'type': 'node',\n",
      "  'visible': 'true'},\n",
      " {'created': {'changeset': '8448766',\n",
      "              'timestamp': '2011-06-15T17:04:54Z',\n",
      "              'uid': '451048',\n",
      "              'user': 'bbmiller',\n",
      "              'version': '6'},\n",
      "  'id': '261114296',\n",
      "  'pos': [41.9730416, -87.6878512],\n",
      "  'type': 'node',\n",
      "  'visible': 'true'},\n",
      " {'created': {'changeset': '8581395',\n",
      "              'timestamp': '2011-06-29T14:14:14Z',\n",
      "              'uid': '451048',\n",
      "              'user': 'bbmiller',\n",
      "              'version': '5'},\n",
      "  'id': '261114299',\n",
      "  'pos': [41.9729565, -87.6939548],\n",
      "  'type': 'node',\n",
      "  'visible': 'true'},\n",
      " {'created': {'changeset': '8581395',\n",
      "              'timestamp': '2011-06-29T14:14:14Z',\n",
      "              'uid': '451048',\n",
      "              'user': 'bbmiller',\n",
      "              'version': '5'},\n",
      "  'id': '261146436',\n",
      "  'pos': [41.970738, -87.6976025],\n",
      "  'type': 'node',\n",
      "  'visible': 'true'},\n",
      " {'created': {'changeset': '8581395',\n",
      "              'timestamp': '2011-06-29T14:14:15Z',\n",
      "              'uid': '451048',\n",
      "              'user': 'bbmiller',\n",
      "              'version': '7'},\n",
      "  'id': '261147304',\n",
      "  'pos': [41.9740068, -87.6988576],\n",
      "  'type': 'node',\n",
      "  'visible': 'true'},\n",
      " {'created': {'changeset': '8581395',\n",
      "              'timestamp': '2011-06-29T14:14:14Z',\n",
      "              'uid': '451048',\n",
      "              'user': 'bbmiller',\n",
      "              'version': '5'},\n",
      "  'id': '261224274',\n",
      "  'pos': [41.9707656, -87.6938669],\n",
      "  'type': 'node',\n",
      "  'visible': 'true'},\n",
      " {'created': {'changeset': '8448766',\n",
      "              'timestamp': '2011-06-15T16:55:37Z',\n",
      "              'uid': '451048',\n",
      "              'user': 'bbmiller',\n",
      "              'version': '47'},\n",
      "  'id': '293816175',\n",
      "  'pos': [41.9730154, -87.6890403],\n",
      "  'type': 'node',\n",
      "  'visible': 'true'},\n",
      " {'created': {'changeset': '15348240',\n",
      "              'timestamp': '2013-03-13T07:46:29Z',\n",
      "              'uid': '567034',\n",
      "              'user': 'Umbugbene',\n",
      "              'version': '37'},\n",
      "  'id': '305896090',\n",
      "  'pos': [41.9749225, -87.6891198],\n",
      "  'type': 'node',\n",
      "  'visible': 'true'},\n",
      " {'created': {'changeset': '15348240',\n",
      "              'timestamp': '2013-03-13T08:02:56Z',\n",
      "              'uid': '567034',\n",
      "              'user': 'Umbugbene',\n",
      "              'version': '12'},\n",
      "  'id': '317636974',\n",
      "  'pos': [41.9740292, -87.701243],\n",
      "  'type': 'node',\n",
      "  'visible': 'true'},\n",
      " {'created': {'changeset': '15348240',\n",
      "              'timestamp': '2013-03-13T08:08:01Z',\n",
      "              'uid': '567034',\n",
      "              'user': 'Umbugbene',\n",
      "              'version': '13'},\n",
      "  'id': '317636971',\n",
      "  'pos': [41.9740556, -87.6979712],\n",
      "  'type': 'node',\n",
      "  'visible': 'true'},\n",
      " {'created': {'changeset': '14927972',\n",
      "              'timestamp': '2013-02-05T22:43:49Z',\n",
      "              'uid': '567034',\n",
      "              'user': 'Umbugbene',\n",
      "              'version': '2'},\n",
      "  'id': '317637399',\n",
      "  'pos': [41.9705609, -87.7012048],\n",
      "  'type': 'node',\n",
      "  'visible': 'true'},\n",
      " {'created': {'changeset': '14927972',\n",
      "              'timestamp': '2013-02-05T22:43:49Z',\n",
      "              'uid': '567034',\n",
      "              'user': 'Umbugbene',\n",
      "              'version': '2'},\n",
      "  'id': '317637398',\n",
      "  'pos': [41.9706972, -87.7012109],\n",
      "  'type': 'node',\n",
      "  'visible': 'true'},\n",
      " {'created': {'changeset': '8448766',\n",
      "              'timestamp': '2011-06-15T17:04:54Z',\n",
      "              'uid': '451048',\n",
      "              'user': 'bbmiller',\n",
      "              'version': '3'},\n",
      "  'id': '365214872',\n",
      "  'pos': [41.973113, -87.6847998],\n",
      "  'type': 'node',\n",
      "  'visible': 'true'},\n",
      " {'created': {'changeset': '8581395',\n",
      "              'timestamp': '2011-06-29T14:14:15Z',\n",
      "              'uid': '451048',\n",
      "              'user': 'bbmiller',\n",
      "              'version': '6'},\n",
      "  'id': '261299091',\n",
      "  'pos': [41.9747482, -87.6988886],\n",
      "  'type': 'node',\n",
      "  'visible': 'true'},\n",
      " {'created': {'changeset': '8448766',\n",
      "              'timestamp': '2011-06-15T17:04:54Z',\n",
      "              'uid': '451048',\n",
      "              'user': 'bbmiller',\n",
      "              'version': '6'},\n",
      "  'id': '261114294',\n",
      "  'pos': [41.9731219, -87.6841979],\n",
      "  'type': 'node',\n",
      "  'visible': 'true'},\n",
      " {'created': {'changeset': '3359748',\n",
      "              'timestamp': '2009-12-13T00:36:09Z',\n",
      "              'uid': '147510',\n",
      "              'user': 'woodpeck_fixbot',\n",
      "              'version': '4'},\n",
      "  'id': '261210804',\n",
      "  'pos': [41.9707217, -87.7000019],\n",
      "  'type': 'node',\n",
      "  'visible': 'true'},\n",
      " {'created': {'changeset': '8581395',\n",
      "              'timestamp': '2011-06-29T14:14:15Z',\n",
      "              'uid': '451048',\n",
      "              'user': 'bbmiller',\n",
      "              'version': '7'},\n",
      "  'id': '261221422',\n",
      "  'pos': [41.9748542, -87.6922652],\n",
      "  'type': 'node',\n",
      "  'visible': 'true'},\n",
      " {'created': {'changeset': '8581395',\n",
      "              'timestamp': '2011-06-29T14:14:15Z',\n",
      "              'uid': '451048',\n",
      "              'user': 'bbmiller',\n",
      "              'version': '7'},\n",
      "  'id': '261221424',\n",
      "  'pos': [41.9758794, -87.6923639],\n",
      "  'type': 'node',\n",
      "  'visible': 'true'},\n",
      " {'address': {'city': 'Chicago',\n",
      "              'housenumber': '5157',\n",
      "              'postcode': '60625',\n",
      "              'street': 'North Lincoln Ave'},\n",
      "  'created': {'changeset': '17206049',\n",
      "              'timestamp': '2013-08-03T16:43:42Z',\n",
      "              'uid': '1219059',\n",
      "              'user': 'linuxUser16',\n",
      "              'version': '2'},\n",
      "  'id': '2406124091',\n",
      "  'pos': [41.975703, -87.6921867],\n",
      "  'type': 'node',\n",
      "  'visible': 'true'},\n",
      " {'address': {'city': 'Chicago',\n",
      "              'country': 'US',\n",
      "              'housenumber': '4874',\n",
      "              'postcode': '60625',\n",
      "              'state': 'Illinois',\n",
      "              'street': 'N. Lincoln Ave'},\n",
      "  'created': {'changeset': '20187349',\n",
      "              'timestamp': '2014-01-25T01:56:10Z',\n",
      "              'uid': '1219059',\n",
      "              'user': 'linuxUser16',\n",
      "              'version': '1'},\n",
      "  'id': '2636084635',\n",
      "  'pos': [41.9705219, -87.6900344],\n",
      "  'type': 'node',\n",
      "  'visible': 'true'},\n",
      " {'created': {'changeset': '8581395',\n",
      "              'timestamp': '2011-06-29T14:14:13Z',\n",
      "              'uid': '451048',\n",
      "              'user': 'bbmiller',\n",
      "              'version': '6'},\n",
      "  'id': '261198953',\n",
      "  'pos': [41.9707413, -87.6963097],\n",
      "  'type': 'node',\n",
      "  'visible': 'true'},\n",
      " {'created': {'changeset': '5288876',\n",
      "              'timestamp': '2010-07-22T16:16:51Z',\n",
      "              'uid': '26299',\n",
      "              'user': 'uboot',\n",
      "              'version': '2'},\n",
      "  'id': '757860928',\n",
      "  'pos': [41.9747374, -87.6920102],\n",
      "  'type': 'node',\n",
      "  'visible': 'true'},\n",
      " {'created': {'changeset': '20187382',\n",
      "              'timestamp': '2014-01-25T02:01:54Z',\n",
      "              'uid': '1219059',\n",
      "              'user': 'linuxUser16',\n",
      "              'version': '1'},\n",
      "  'id': '258219703',\n",
      "  'node_refs': ['2636086179', '2636086178', '2636086177', '2636086176'],\n",
      "  'type': 'way',\n",
      "  'visible': 'true'},\n",
      " {'address': {'housename': 'Village Hall',\n",
      "              'housenumber': '1400',\n",
      "              'postcode': '60067',\n",
      "              'street': 'Baldwin Rd.'},\n",
      "  'created': {'changeset': '11043902',\n",
      "              'timestamp': '2012-03-20T18:56:44Z',\n",
      "              'uid': '634589',\n",
      "              'user': 'Jacobs Studios',\n",
      "              'version': '2'},\n",
      "  'id': '1683602133',\n",
      "  'pos': [42.1251718, -88.0780576],\n",
      "  'type': 'node'},\n",
      " {'address': {'housenumber': '1412', 'street': 'West Lexington St.'},\n",
      "  'building_levels': '1',\n",
      "  'chicago_building_id': '366409',\n",
      "  'created': {'changeset': '15353317',\n",
      "              'timestamp': '2013-03-13T15:58:04Z',\n",
      "              'uid': '674454',\n",
      "              'user': 'chicago-buildings',\n",
      "              'version': '1'},\n",
      "  'id': '209809850',\n",
      "  'node_refs': ['2199822281',\n",
      "                '2199822390',\n",
      "                '2199822392',\n",
      "                '2199822369',\n",
      "                '2199822370',\n",
      "                '2199822284',\n",
      "                '2199822281'],\n",
      "  'type': 'way',\n",
      "  'visible': 'true'}]\n"
     ]
    }
   ],
   "source": [
    "if __name__ == \"__main__\":\n",
    "    #data = process_map('example.osm', True)\n",
    "    #pprint.pprint(data)\n",
    "    test()"
   ]
  },
  {
   "cell_type": "code",
   "execution_count": null,
   "metadata": {
    "collapsed": true
   },
   "outputs": [],
   "source": []
  }
 ],
 "metadata": {
  "kernelspec": {
   "display_name": "Python [Root]",
   "language": "python",
   "name": "Python [Root]"
  },
  "language_info": {
   "codemirror_mode": {
    "name": "ipython",
    "version": 2
   },
   "file_extension": ".py",
   "mimetype": "text/x-python",
   "name": "python",
   "nbconvert_exporter": "python",
   "pygments_lexer": "ipython2",
   "version": "2.7.12"
  }
 },
 "nbformat": 4,
 "nbformat_minor": 0
}
