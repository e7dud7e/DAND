{
 "cells": [
  {
   "cell_type": "code",
   "execution_count": 1,
   "metadata": {
    "collapsed": true
   },
   "outputs": [],
   "source": [
    "#!/usr/bin/env python\n",
    "# -*- coding: utf-8 -*-\n",
    "import xml.etree.cElementTree as ET\n",
    "import pprint\n",
    "import re"
   ]
  },
  {
   "cell_type": "code",
   "execution_count": null,
   "metadata": {
    "collapsed": true
   },
   "outputs": [],
   "source": [
    "\"\"\"\n",
    "Your task is to explore the data a bit more.\n",
    "The first task is a fun one - find out how many unique users\n",
    "have contributed to the map in this particular area!\n",
    "\n",
    "The function process_map should return a set of unique user IDs (\"uid\")\n",
    "\"\"\""
   ]
  },
  {
   "cell_type": "code",
   "execution_count": 15,
   "metadata": {
    "collapsed": true
   },
   "outputs": [],
   "source": [
    "def get_user(element):\n",
    "    if 'user' in element.attrib:\n",
    "        return element.attrib['user']\n",
    "    return None"
   ]
  },
  {
   "cell_type": "code",
   "execution_count": 17,
   "metadata": {
    "collapsed": true
   },
   "outputs": [],
   "source": [
    "def process_map(filename):\n",
    "    users = set()\n",
    "    counter = 0\n",
    "    counter_max = 500\n",
    "    for _, element in ET.iterparse(filename):\n",
    "        user = get_user(element)\n",
    "        if user:\n",
    "            users.add(user)\n",
    "        counter +=1\n",
    "        if counter > counter_max:\n",
    "            break\n",
    "        \n",
    "    return users"
   ]
  },
  {
   "cell_type": "code",
   "execution_count": 9,
   "metadata": {
    "collapsed": true
   },
   "outputs": [],
   "source": [
    "def test():\n",
    "    users = process_map('san-francisco-bay_california.osm')\n",
    "    pprint.pprint(users)\n",
    "    #assert len(users) == 6"
   ]
  },
  {
   "cell_type": "code",
   "execution_count": 18,
   "metadata": {
    "collapsed": false
   },
   "outputs": [
    {
     "name": "stdout",
     "output_type": "stream",
     "text": [
      "set(['AM909',\n",
      "     'Aaron Lidman',\n",
      "     'Alan Vogt',\n",
      "     'Alexander Avtanski',\n",
      "     'Bike Mapper',\n",
      "     'Cato_d_Ae',\n",
      "     'ChrisZontine',\n",
      "     'CoreyFarwell',\n",
      "     'DanHomerick',\n",
      "     'David Speakman',\n",
      "     'Hjart',\n",
      "     'JeffM8',\n",
      "     'Jothirnadh',\n",
      "     'KaiRo',\n",
      "     'KindredCoda',\n",
      "     'Luis36995',\n",
      "     'Marcus Wolschon',\n",
      "     'Minh Nguyen',\n",
      "     'NE2',\n",
      "     'Speight',\n",
      "     'StellanL',\n",
      "     'Telecas',\n",
      "     'aarthy',\n",
      "     'adbrown',\n",
      "     'andrewpmk',\n",
      "     'andygol',\n",
      "     'bmhr',\n",
      "     'fennecfoxen',\n",
      "     'gaku',\n",
      "     'jajawo',\n",
      "     'jeff2',\n",
      "     'juergenb22',\n",
      "     'karitotp',\n",
      "     'matthieun',\n",
      "     'mjn',\n",
      "     'mk408',\n",
      "     'n76',\n",
      "     'nmixter',\n",
      "     'oldtopos',\n",
      "     'raf',\n",
      "     'richlv',\n",
      "     'robertstack',\n",
      "     'saikabhi',\n",
      "     'samely',\n",
      "     'stevea',\n",
      "     'steverumizen',\n",
      "     'stucki1',\n",
      "     'tahongawaka',\n",
      "     'user_634020',\n",
      "     'wallclimber21'])\n"
     ]
    }
   ],
   "source": [
    "if __name__ == \"__main__\":\n",
    "    test()"
   ]
  },
  {
   "cell_type": "code",
   "execution_count": null,
   "metadata": {
    "collapsed": true
   },
   "outputs": [],
   "source": []
  }
 ],
 "metadata": {
  "kernelspec": {
   "display_name": "Python [Root]",
   "language": "python",
   "name": "Python [Root]"
  },
  "language_info": {
   "codemirror_mode": {
    "name": "ipython",
    "version": 2
   },
   "file_extension": ".py",
   "mimetype": "text/x-python",
   "name": "python",
   "nbconvert_exporter": "python",
   "pygments_lexer": "ipython2",
   "version": "2.7.12"
  }
 },
 "nbformat": 4,
 "nbformat_minor": 0
}
