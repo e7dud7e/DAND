{
 "cells": [
  {
   "cell_type": "code",
   "execution_count": 1,
   "metadata": {
    "collapsed": true
   },
   "outputs": [],
   "source": [
    "#!/usr/bin/env python\n",
    "# -*- coding: utf-8 -*-\n",
    "import xml.etree.cElementTree as ET\n",
    "import pprint\n",
    "import re"
   ]
  },
  {
   "cell_type": "code",
   "execution_count": null,
   "metadata": {
    "collapsed": true
   },
   "outputs": [],
   "source": [
    "\"\"\"\n",
    "Your task is to explore the data a bit more.\n",
    "Before you process the data and add it into your database, you should check the\n",
    "\"k\" value for each \"<tag>\" and see if there are any potential problems.\n",
    "\n",
    "We have provided you with 3 regular expressions to check for certain patterns\n",
    "in the tags. As we saw in the quiz earlier, we would like to change the data\n",
    "model and expand the \"addr:street\" type of keys to a dictionary like this:\n",
    "{\"address\": {\"street\": \"Some value\"}}\n",
    "So, we have to see if we have such tags, and if we have any tags with\n",
    "problematic characters.\n",
    "\n",
    "Please complete the function 'key_type', such that we have a count of each of\n",
    "four tag categories in a dictionary:\n",
    "  \"lower\", for tags that contain only lowercase letters and are valid,\n",
    "  \"lower_colon\", for otherwise valid tags with a colon in their names,\n",
    "  \"problemchars\", for tags with problematic characters, and\n",
    "  \"other\", for other tags that do not fall into the other three categories.\n",
    "See the 'process_map' and 'test' functions for examples of the expected format.\n",
    "\"\"\""
   ]
  },
  {
   "cell_type": "code",
   "execution_count": 2,
   "metadata": {
    "collapsed": true
   },
   "outputs": [],
   "source": [
    "lower = re.compile(r'^([a-z]|_)*$')\n",
    "lower_colon = re.compile(r'^([a-z]|_)*:([a-z]|_)*$')\n",
    "problemchars = re.compile(r'[=\\+/&<>;\\'\"\\?%#$@\\,\\. \\t\\r\\n]')"
   ]
  },
  {
   "cell_type": "code",
   "execution_count": 22,
   "metadata": {
    "collapsed": false
   },
   "outputs": [
    {
     "ename": "SyntaxError",
     "evalue": "invalid syntax (<ipython-input-22-faa8d9279157>, line 5)",
     "output_type": "error",
     "traceback": [
      "\u001b[0;36m  File \u001b[0;32m\"<ipython-input-22-faa8d9279157>\"\u001b[0;36m, line \u001b[0;32m5\u001b[0m\n\u001b[0;31m    if (m = re.search(lower,kval)):\u001b[0m\n\u001b[0m          ^\u001b[0m\n\u001b[0;31mSyntaxError\u001b[0m\u001b[0;31m:\u001b[0m invalid syntax\n"
     ]
    }
   ],
   "source": [
    "def key_type(element, keys):\n",
    "    if element.tag == \"tag\":\n",
    "        pprint.pprint(element.attrib['k'])\n",
    "        kval = element.attrib['k']\n",
    "        m = re.search(lower,kval)\n",
    "        if m:\n",
    "            keys['lower'] +=1\n",
    "            return keys\n",
    "        m = re.search(lower_colon,kval)\n",
    "        if m:\n",
    "            keys['lower_colon'] +=1\n",
    "            return keys\n",
    "        m = re.search(problemchars,kval)\n",
    "        if m:\n",
    "            keys['problemchars'] +=1\n",
    "            return keys\n",
    "        keys['other'] +=1\n",
    "        \n",
    "    return keys"
   ]
  },
  {
   "cell_type": "code",
   "execution_count": null,
   "metadata": {
    "collapsed": true
   },
   "outputs": [],
   "source": []
  },
  {
   "cell_type": "code",
   "execution_count": 12,
   "metadata": {
    "collapsed": true
   },
   "outputs": [],
   "source": [
    "def process_map(filename):\n",
    "    keys = {\"lower\": 0, \"lower_colon\": 0, \"problemchars\": 0, \"other\": 0}\n",
    "    counter = 0\n",
    "    counter_max = 500\n",
    "    for _, element in ET.iterparse(filename):\n",
    "        counter +=1\n",
    "        keys = key_type(element, keys)\n",
    "        if counter > counter_max:\n",
    "            break\n",
    "\n",
    "    return keys"
   ]
  },
  {
   "cell_type": "code",
   "execution_count": 6,
   "metadata": {
    "collapsed": true
   },
   "outputs": [],
   "source": [
    "def test():\n",
    "    # You can use another testfile 'map.osm' to look at your solution\n",
    "    # Note that the assertion below will be incorrect then.\n",
    "    # Note as well that the test function here is only used in the Test Run;\n",
    "    # when you submit, your code will be checked against a different dataset.\n",
    "    keys = process_map('example.osm')\n",
    "    pprint.pprint(keys)\n",
    "    #assert keys == {'lower': 5, 'lower_colon': 0, 'other': 1, 'problemchars': 1}"
   ]
  },
  {
   "cell_type": "code",
   "execution_count": 21,
   "metadata": {
    "collapsed": false
   },
   "outputs": [
    {
     "name": "stdout",
     "output_type": "stream",
     "text": [
      "'ref'\n",
      "'source'\n",
      "'exit_to'\n",
      "'highway'\n",
      "'ref'\n",
      "'highway'\n",
      "'ref'\n",
      "'highway'\n",
      "'name'\n",
      "'amenity'\n",
      "'created_by'\n",
      "'ref'\n",
      "'highway'\n",
      "'highway'\n",
      "'crossing'\n",
      "'highway'\n",
      "'source'\n",
      "'highway'\n",
      "'source'\n",
      "'highway'\n",
      "'highway'\n",
      "'highway'\n",
      "'ref'\n",
      "'source'\n",
      "'exit_to'\n",
      "'highway'\n",
      "'ref'\n",
      "'exit_to'\n",
      "'highway'\n",
      "'ref'\n",
      "'exit_to'\n",
      "'highway'\n",
      "'ref'\n",
      "'exit_to'\n",
      "'highway'\n",
      "'ref'\n",
      "'source'\n",
      "'exit_to'\n",
      "'highway'\n",
      "'highway'\n",
      "'exit_to'\n",
      "'highway'\n",
      "'highway'\n",
      "'highway'\n",
      "'highway'\n",
      "'highway'\n",
      "'ref'\n",
      "'source'\n",
      "'exit_to'\n",
      "'highway'\n",
      "'highway'\n",
      "'source'\n",
      "'highway'\n",
      "'highway'\n",
      "'ref'\n",
      "'source'\n",
      "'exit_to'\n",
      "'highway'\n",
      "'highway'\n",
      "'ref'\n",
      "'exit_to'\n",
      "'highway'\n",
      "'highway'\n",
      "'highway'\n",
      "'highway'\n",
      "'highway'\n",
      "'traffic_signals'\n",
      "'ref'\n",
      "'source'\n",
      "'exit_to'\n",
      "'highway'\n",
      "'highway'\n",
      "'source:highway'\n",
      "'created_by'\n",
      "'created_by'\n",
      "'noref'\n",
      "'exit_to'\n",
      "'highway'\n",
      "'source'\n",
      "'highway'\n",
      "'highway'\n",
      "'highway'\n",
      "'crossing'\n",
      "'highway'\n",
      "'highway'\n",
      "'crossing'\n",
      "'created_by'\n",
      "{'lower': 86, 'lower_colon': 1, 'other': 0, 'problemchars': 0}\n"
     ]
    }
   ],
   "source": [
    "if __name__ == \"__main__\":\n",
    "    test()"
   ]
  },
  {
   "cell_type": "code",
   "execution_count": null,
   "metadata": {
    "collapsed": true
   },
   "outputs": [],
   "source": []
  },
  {
   "cell_type": "code",
   "execution_count": null,
   "metadata": {
    "collapsed": true
   },
   "outputs": [],
   "source": []
  },
  {
   "cell_type": "code",
   "execution_count": null,
   "metadata": {
    "collapsed": true
   },
   "outputs": [],
   "source": []
  },
  {
   "cell_type": "code",
   "execution_count": null,
   "metadata": {
    "collapsed": true
   },
   "outputs": [],
   "source": []
  },
  {
   "cell_type": "code",
   "execution_count": null,
   "metadata": {
    "collapsed": true
   },
   "outputs": [],
   "source": []
  }
 ],
 "metadata": {
  "kernelspec": {
   "display_name": "Python [Root]",
   "language": "python",
   "name": "Python [Root]"
  },
  "language_info": {
   "codemirror_mode": {
    "name": "ipython",
    "version": 2
   },
   "file_extension": ".py",
   "mimetype": "text/x-python",
   "name": "python",
   "nbconvert_exporter": "python",
   "pygments_lexer": "ipython2",
   "version": "2.7.12"
  }
 },
 "nbformat": 4,
 "nbformat_minor": 0
}
