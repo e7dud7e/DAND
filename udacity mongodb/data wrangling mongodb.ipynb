{
 "cells": [
  {
   "cell_type": "markdown",
   "metadata": {},
   "source": [
    "In the terminal window:\n",
    "(General usage)\n",
    "mongoimport --db dbname --collection collectionname --file input-file.json\n",
    "(for this project:)\n",
    "mongoimport --db open_street_map --collection berkeley --file berkeley.osm.json"
   ]
  },
  {
   "cell_type": "code",
   "execution_count": 1,
   "metadata": {
    "collapsed": true
   },
   "outputs": [],
   "source": [
    "import pprint\n",
    "import matplotlib.pyplot as plt\n",
    "import seaborn as sns\n",
    "import numpy as np"
   ]
  },
  {
   "cell_type": "code",
   "execution_count": 2,
   "metadata": {
    "collapsed": true
   },
   "outputs": [],
   "source": [
    "%matplotlib inline"
   ]
  },
  {
   "cell_type": "code",
   "execution_count": 3,
   "metadata": {
    "collapsed": true
   },
   "outputs": [],
   "source": [
    "def get_db(db_name):\n",
    "    from pymongo import MongoClient\n",
    "    client = MongoClient('localhost:27017')\n",
    "    db = client[db_name]\n",
    "    return db"
   ]
  },
  {
   "cell_type": "code",
   "execution_count": 4,
   "metadata": {
    "collapsed": true
   },
   "outputs": [],
   "source": [
    "db = get_db('open_street_map')"
   ]
  },
  {
   "cell_type": "code",
   "execution_count": 5,
   "metadata": {
    "collapsed": true
   },
   "outputs": [],
   "source": [
    "\"\"\"\n",
    "Drop collection if need to re-populate it with cleaned data\n",
    "\"\"\"\n",
    "#db.drop_collection('berkeley') "
   ]
  },
  {
   "cell_type": "code",
   "execution_count": 7,
   "metadata": {
    "collapsed": false
   },
   "outputs": [
    {
     "data": {
      "text/plain": [
       "231784"
      ]
     },
     "execution_count": 7,
     "metadata": {},
     "output_type": "execute_result"
    }
   ],
   "source": [
    "db.berkeley.count()"
   ]
  },
  {
   "cell_type": "code",
   "execution_count": 8,
   "metadata": {
    "collapsed": false
   },
   "outputs": [
    {
     "name": "stdout",
     "output_type": "stream",
     "text": [
      "[{u'_id': u'node', u'count': 201050}, {u'_id': u'way', u'count': 30734}]\n"
     ]
    }
   ],
   "source": [
    "\"\"\"\n",
    "Count number of node and way elements\n",
    "\"\"\"\n",
    "\n",
    "query = [{\"$group\": \n",
    "                  {\"_id\": \"$type\", \n",
    "                   \"count\":{\"$sum\":1}}},\n",
    "         {\"$sort\": {\"count\": -1}}\n",
    "        ]\n",
    "result = [c for c in db.berkeley.aggregate(query)]\n",
    "pprint.pprint(result)"
   ]
  },
  {
   "cell_type": "markdown",
   "metadata": {},
   "source": [
    "Some keys in the key value pairs have the same key as the fields that were given special meaning, such as 'type'.  Make sure to avoid using these reserved words."
   ]
  },
  {
   "cell_type": "markdown",
   "metadata": {},
   "source": [
    "Number of elements contributed per user and \n",
    "Number of unique users (created.uid and created.user"
   ]
  },
  {
   "cell_type": "code",
   "execution_count": 9,
   "metadata": {
    "collapsed": false
   },
   "outputs": [
    {
     "data": {
      "text/plain": [
       "548"
      ]
     },
     "execution_count": 9,
     "metadata": {},
     "output_type": "execute_result"
    }
   ],
   "source": [
    "query = [{\"$group\": {\n",
    "            \"_id\": \"unique_users_id\",\n",
    "            \"unique_users_set\": {\"$addToSet\":\"$created.user\"} \n",
    "        }\n",
    "         },\n",
    "         {\"$limit\": 1}\n",
    "        ]\n",
    "result =[c['unique_users_set'] for c in db.berkeley.aggregate(query)]  \n",
    "len(result[0])"
   ]
  },
  {
   "cell_type": "code",
   "execution_count": 10,
   "metadata": {
    "collapsed": false
   },
   "outputs": [
    {
     "data": {
      "text/plain": [
       "[{u'_id': {u'uid': u'1249504', u'user': u'EranChazan'}, u'count': 35663},\n",
       " {u'_id': {u'uid': u'933797', u'user': u'oba510'}, u'count': 30197},\n",
       " {u'_id': {u'uid': u'381909', u'user': u'JessAk71'}, u'count': 21669},\n",
       " {u'_id': {u'uid': u'941449', u'user': u'lyzidiamond'}, u'count': 21489},\n",
       " {u'_id': {u'uid': u'153669', u'user': u'dchiles'}, u'count': 20120}]"
      ]
     },
     "execution_count": 10,
     "metadata": {},
     "output_type": "execute_result"
    }
   ],
   "source": [
    "query=[{\"$group\":{\n",
    "            \"_id\":{\"uid\":\"$created.uid\",\"user\":\"$created.user\"},\n",
    "            \"count\":{\"$sum\": 1}\n",
    "        }},\n",
    "       {\"$sort\": {\"count\":-1}},\n",
    "       {\"$limit\":5}\n",
    "      ]\n",
    "result = [c for c in db.berkeley.aggregate(query)]\n",
    "result"
   ]
  },
  {
   "cell_type": "code",
   "execution_count": 11,
   "metadata": {
    "collapsed": false
   },
   "outputs": [
    {
     "data": {
      "text/plain": [
       "[{u'name': u'MacArthur',\n",
       "  u'operator': u'Bay Area Rapid Transit (BART)',\n",
       "  u'toilets': u'yes',\n",
       "  u'toilets_collection': {u'wheelchair': u'yes'},\n",
       "  u'wheelchair': u'yes'},\n",
       " {u'name': u'Rockridge',\n",
       "  u'operator': u'Bay Area Rapid Transit (BART)',\n",
       "  u'toilets': u'yes',\n",
       "  u'toilets_collection': {u'wheelchair': u'yes'},\n",
       "  u'wheelchair': u'yes'},\n",
       " {u'name': u'Ashby',\n",
       "  u'operator': u'Bay Area Rapid Transit (BART)',\n",
       "  u'toilets': u'private',\n",
       "  u'toilets_collection': {u'wheelchair': u'private'},\n",
       "  u'wheelchair': u'yes'},\n",
       " {u'name': u'Oakland City Center - 12th Street',\n",
       "  u'operator': u'Bay Area Rapid Transit (BART)',\n",
       "  u'toilets': u'private',\n",
       "  u'toilets_collection': {u'wheelchair': u'private'},\n",
       "  u'wheelchair': u'yes'},\n",
       " {u'name': u'19th St Oakland',\n",
       "  u'operator': u'Bay Area Rapid Transit (BART)',\n",
       "  u'toilets': u'private',\n",
       "  u'toilets_collection': {u'wheelchair': u'private'},\n",
       "  u'wheelchair': u'yes'},\n",
       " {u'name': u'West Oakland', u'operator': u'Bay Area Rapid Transit (BART)'},\n",
       " {u'name': u'Downtown Berkeley',\n",
       "  u'operator': u'Bay Area Rapid Transit (BART)',\n",
       "  u'toilets': u'private',\n",
       "  u'toilets_collection': {u'wheelchair': u'private'},\n",
       "  u'wheelchair': u'yes'},\n",
       " {u'operator': u'Bay Area Rapid Transit (BART)'},\n",
       " {u'operator': u'Bay Area Rapid Transit (BART)'},\n",
       " {u'name': u'North Berkeley',\n",
       "  u'operator': u'Bay Area Rapid Transit (BART)',\n",
       "  u'toilets': u'private',\n",
       "  u'toilets_collection': {u'wheelchair': u'private'},\n",
       "  u'wheelchair': u'yes'}]"
      ]
     },
     "execution_count": 11,
     "metadata": {},
     "output_type": "execute_result"
    }
   ],
   "source": [
    "\"\"\"\n",
    "Just exploring BART stations and their toilets.\n",
    "\"\"\"\n",
    "\n",
    "query = {\"operator\": {\"$regex\": \"BART|Bay Area Rapid Transit\"}}\n",
    "project = {\"_id\":0, \"operator\": 1, \"name\":1, \n",
    "           \"toilets\":1, \"toilets_collection\":1,\n",
    "           \"wheelchair\":1\n",
    "          }\n",
    "cursor = db.berkeley.find(query,project)\n",
    "result = [c for c in cursor]\n",
    "result"
   ]
  },
  {
   "cell_type": "code",
   "execution_count": 12,
   "metadata": {
    "collapsed": false
   },
   "outputs": [
    {
     "data": {
      "text/plain": [
       "[{u'_id': None, u'count': 231251},\n",
       " {u'_id': u'AC Transit', u'count': 239},\n",
       " {u'_id': u'City CarShare', u'count': 51},\n",
       " {u'_id': u'USPS', u'count': 31},\n",
       " {u'_id': u'University of California, Berkeley (Cal)', u'count': 20},\n",
       " {u'_id': u'California College of the Arts', u'count': 19}]"
      ]
     },
     "execution_count": 12,
     "metadata": {},
     "output_type": "execute_result"
    }
   ],
   "source": [
    "\"\"\"\n",
    "Exploring operator field\n",
    "\"\"\"\n",
    "\n",
    "query = [{\"$group\": {\"_id\": \"$operator\",\n",
    "                     \"count\": {\"$sum\":1}}},\n",
    "    {\"$sort\": {\"count\":-1}},\n",
    "    {\"$limit\": 6}\n",
    "]\n",
    "\n",
    "cursor = db.berkeley.aggregate(query)\n",
    "result = [c for c in cursor]\n",
    "result"
   ]
  },
  {
   "cell_type": "code",
   "execution_count": 13,
   "metadata": {
    "collapsed": false
   },
   "outputs": [
    {
     "name": "stdout",
     "output_type": "stream",
     "text": [
      "[{u'_id': None, u'count': 227980},\n",
      " {u'_id': u'parking', u'count': 984},\n",
      " {u'_id': u'restaurant', u'count': 594},\n",
      " {u'_id': u'place_of_worship', u'count': 241},\n",
      " {u'_id': u'cafe', u'count': 237},\n",
      " {u'_id': u'bicycle_parking', u'count': 172}]\n"
     ]
    }
   ],
   "source": [
    "\"\"\"\n",
    "Exploring amenity field\n",
    "\"\"\"\n",
    "query = [{\"$group\": {\"_id\": \"$amenity\",\n",
    "                     \"count\": {\"$sum\":1}}},\n",
    "    {\"$sort\": {\"count\":-1}},\n",
    "    {\"$limit\": 6}\n",
    "]\n",
    "\n",
    "cursor = db.berkeley.aggregate(query)\n",
    "result = [c for c in cursor]\n",
    "pprint.pprint(result)"
   ]
  },
  {
   "cell_type": "markdown",
   "metadata": {},
   "source": [
    "What are the number of lanes for each highway type?\n",
    "What is the average number of lanes for each highway type?"
   ]
  },
  {
   "cell_type": "code",
   "execution_count": 14,
   "metadata": {
    "collapsed": false
   },
   "outputs": [
    {
     "name": "stdout",
     "output_type": "stream",
     "text": [
      "[{u'_id': {u'highway': u'abandoned'}, u'avg_lanes_per_highway': 5.0},\n",
      " {u'_id': {u'highway': u'motorway'},\n",
      "  u'avg_lanes_per_highway': 3.6754966887417218},\n",
      " {u'_id': {u'highway': u'secondary'},\n",
      "  u'avg_lanes_per_highway': 3.177159590043924},\n",
      " {u'_id': {u'highway': u'cycleway'}, u'avg_lanes_per_highway': 3.0},\n",
      " {u'_id': {u'highway': u'primary'},\n",
      "  u'avg_lanes_per_highway': 2.777456647398844},\n",
      " {u'_id': {u'highway': u'tertiary'},\n",
      "  u'avg_lanes_per_highway': 2.2057142857142855},\n",
      " {u'_id': {u'highway': u'unclassified'},\n",
      "  u'avg_lanes_per_highway': 1.8148148148148149},\n",
      " {u'_id': {u'highway': u'motorway_link'},\n",
      "  u'avg_lanes_per_highway': 1.7331378299120235},\n",
      " {u'_id': {u'highway': u'residential'},\n",
      "  u'avg_lanes_per_highway': 1.4328358208955223},\n",
      " {u'_id': {u'highway': u'secondary_link'}, u'avg_lanes_per_highway': 1.375},\n",
      " {u'_id': {u'highway': u'primary_link'},\n",
      "  u'avg_lanes_per_highway': 1.3333333333333333},\n",
      " {u'_id': {u'highway': u'service'},\n",
      "  u'avg_lanes_per_highway': 1.0833333333333333},\n",
      " {u'_id': {u'highway': u'tertiary_link'}, u'avg_lanes_per_highway': 1.0},\n",
      " {u'_id': {u'highway': u'street_sign'}, u'avg_lanes_per_highway': None},\n",
      " {u'_id': {u'highway': u'corridor'}, u'avg_lanes_per_highway': None},\n",
      " {u'_id': {u'highway': None}, u'avg_lanes_per_highway': None},\n",
      " {u'_id': {u'highway': u'elevator'}, u'avg_lanes_per_highway': None},\n",
      " {u'_id': {u'highway': u'pedestrian'}, u'avg_lanes_per_highway': None},\n",
      " {u'_id': {u'highway': u'road'}, u'avg_lanes_per_highway': None},\n",
      " {u'_id': {u'highway': u'construction'}, u'avg_lanes_per_highway': None},\n",
      " {u'_id': {u'highway': u'footway'}, u'avg_lanes_per_highway': None},\n",
      " {u'_id': {u'highway': u'track'}, u'avg_lanes_per_highway': None},\n",
      " {u'_id': {u'highway': u'path'}, u'avg_lanes_per_highway': None},\n",
      " {u'_id': {u'highway': u'steps'}, u'avg_lanes_per_highway': None}]\n"
     ]
    }
   ],
   "source": [
    "\"\"\"\n",
    "Number of lanes for each type of highway\n",
    "\"\"\"\n",
    "\n",
    "query = [{\"$match\": {\"type\": \"way\"}},\n",
    "    {\"$group\": {\"_id\": {\"highway\":\"$highway\"},\n",
    "                \"avg_lanes_per_highway\": {\"$avg\":\"$lanes\"}}},\n",
    "    {\"$sort\": {\"avg_lanes_per_highway\":-1}}\n",
    "]\n",
    "\n",
    "cursor = db.berkeley.aggregate(query)\n",
    "result = [c for c in cursor]\n",
    "pprint.pprint(result)"
   ]
  },
  {
   "cell_type": "code",
   "execution_count": 15,
   "metadata": {
    "collapsed": false
   },
   "outputs": [
    {
     "name": "stdout",
     "output_type": "stream",
     "text": [
      "[{u'_id': u'all highways', u'avg_lanes': 2.6786060019361084}]\n"
     ]
    }
   ],
   "source": [
    "\"\"\"\n",
    "Average lanes per way\n",
    "\"\"\"\n",
    "query = [\n",
    "    {\"$match\": {\"type\": \"way\"}},\n",
    "    {\"$group\": {\"_id\": \"all highways\",\n",
    "                \"avg_lanes\": {\"$avg\":\"$lanes\"}}\n",
    "    },\n",
    "    {\"$limit\": 5}\n",
    "        \n",
    "]\n",
    "cursor = db.berkeley.aggregate(query)\n",
    "result = [c for c in cursor]\n",
    "pprint.pprint(result)"
   ]
  },
  {
   "cell_type": "markdown",
   "metadata": {},
   "source": [
    "How many nodes are associated with each way? (most nodes, least nodes)"
   ]
  },
  {
   "cell_type": "code",
   "execution_count": 16,
   "metadata": {
    "collapsed": false
   },
   "outputs": [
    {
     "data": {
      "text/plain": [
       "[{u'_id': {u'id': u'192565555'}, u'node_count': 711},\n",
       " {u'_id': {u'id': u'123075097'}, u'node_count': 438},\n",
       " {u'_id': {u'id': u'114224294'}, u'node_count': 370},\n",
       " {u'_id': {u'id': u'11564185'}, u'node_count': 352},\n",
       " {u'_id': {u'id': u'33088737'}, u'node_count': 290}]"
      ]
     },
     "execution_count": 16,
     "metadata": {},
     "output_type": "execute_result"
    }
   ],
   "source": [
    "#most node references per way\n",
    "query=[{\"$match\": {\"type\":\"way\"}},\n",
    "       {\"$unwind\": \"$node_refs\"},\n",
    "       {\"$group\": {\"_id\": {\"id\":\"$id\"},\n",
    "                   \"node_count\": {\"$sum\": 1}}},\n",
    "       {\"$sort\": {\"node_count\": -1}},\n",
    "       {\"$limit\": 5}\n",
    "      ]\n",
    "cursor = db.berkeley.aggregate(query)\n",
    "result = [c for c in cursor]\n",
    "result"
   ]
  },
  {
   "cell_type": "markdown",
   "metadata": {},
   "source": [
    "I can search in the open street map site by way, for example:\n",
    "http://www.openstreetmap.org/way/192565555\n",
    "\n",
    "This shows that the way with 711 nodes is a path that surrounds the Redwood Regional Park and Anthony Chabot Regional Park."
   ]
  },
  {
   "cell_type": "code",
   "execution_count": 17,
   "metadata": {
    "collapsed": false
   },
   "outputs": [],
   "source": [
    "#way with id 192565555 has 711 node references\n",
    "query = {\"id\":\"192565555\"}\n",
    "node_l = []\n",
    "for c in db.berkeley.find(query)[0:1]:\n",
    "    node_l = c['node_refs']"
   ]
  },
  {
   "cell_type": "code",
   "execution_count": 18,
   "metadata": {
    "collapsed": false
   },
   "outputs": [
    {
     "data": {
      "text/plain": [
       "711"
      ]
     },
     "execution_count": 18,
     "metadata": {},
     "output_type": "execute_result"
    }
   ],
   "source": [
    "node_set = set(node_l)\n",
    "len(node_set)"
   ]
  },
  {
   "cell_type": "code",
   "execution_count": 19,
   "metadata": {
    "collapsed": false
   },
   "outputs": [],
   "source": [
    "#find the nodes that are part of this way\n",
    "query={\n",
    "        \"id\": {\"$in\": node_l}\n",
    "       }\n",
    "node_elements_l = []\n",
    "for c in db.berkeley.find(query):\n",
    "    node_elements_l.append(c)"
   ]
  },
  {
   "cell_type": "markdown",
   "metadata": {},
   "source": [
    "Of the 711 nodes referenced by this way, 25 are found in this map data."
   ]
  },
  {
   "cell_type": "code",
   "execution_count": 20,
   "metadata": {
    "collapsed": false
   },
   "outputs": [
    {
     "name": "stdout",
     "output_type": "stream",
     "text": [
      "[u'1294145185',\n",
      " u'1294145770',\n",
      " u'1294147487',\n",
      " u'1294148307',\n",
      " u'1294151515',\n",
      " u'1294152041',\n",
      " u'1294152922',\n",
      " u'1294158905',\n",
      " u'1294159458',\n",
      " u'1294162671',\n",
      " u'1294165693',\n",
      " u'1294165934',\n",
      " u'1294168201',\n",
      " u'1294172050',\n",
      " u'1294172266',\n",
      " u'1294172476',\n",
      " u'1294174536',\n",
      " u'1294176560',\n",
      " u'1294177150',\n",
      " u'1294177608',\n",
      " u'1294179275',\n",
      " u'1294180450',\n",
      " u'1294181773',\n",
      " u'1294182149',\n",
      " u'1294182598']\n"
     ]
    }
   ],
   "source": [
    "node_full_l = [n['id'] for n in node_elements_l]\n",
    "pprint.pprint(node_full_l) "
   ]
  },
  {
   "cell_type": "code",
   "execution_count": 21,
   "metadata": {
    "collapsed": false
   },
   "outputs": [
    {
     "data": {
      "text/plain": [
       "25"
      ]
     },
     "execution_count": 21,
     "metadata": {},
     "output_type": "execute_result"
    }
   ],
   "source": [
    "len(node_elements_l)"
   ]
  },
  {
   "cell_type": "code",
   "execution_count": 22,
   "metadata": {
    "collapsed": false
   },
   "outputs": [
    {
     "data": {
      "text/plain": [
       "{u'1294143478',\n",
       " u'1294143513',\n",
       " u'1294143661',\n",
       " u'1294143807',\n",
       " u'1294143908',\n",
       " u'1294144001',\n",
       " u'1294144032',\n",
       " u'1294144044',\n",
       " u'1294144125',\n",
       " u'1294144134',\n",
       " u'1294144217',\n",
       " u'1294144255',\n",
       " u'1294144304',\n",
       " u'1294144351',\n",
       " u'1294144373',\n",
       " u'1294144499',\n",
       " u'1294144510',\n",
       " u'1294144592',\n",
       " u'1294144628',\n",
       " u'1294144768',\n",
       " u'1294144773',\n",
       " u'1294144854',\n",
       " u'1294144866',\n",
       " u'1294144894',\n",
       " u'1294144935',\n",
       " u'1294144952',\n",
       " u'1294145041',\n",
       " u'1294145084',\n",
       " u'1294145130',\n",
       " u'1294145134',\n",
       " u'1294145162',\n",
       " u'1294145257',\n",
       " u'1294145337',\n",
       " u'1294145420',\n",
       " u'1294145454',\n",
       " u'1294145468',\n",
       " u'1294145543',\n",
       " u'1294145552',\n",
       " u'1294145640',\n",
       " u'1294145810',\n",
       " u'1294145844',\n",
       " u'1294145930',\n",
       " u'1294146012',\n",
       " u'1294146043',\n",
       " u'1294146056',\n",
       " u'1294146127',\n",
       " u'1294146163',\n",
       " u'1294146249',\n",
       " u'1294146328',\n",
       " u'1294146359',\n",
       " u'1294146413',\n",
       " u'1294146444',\n",
       " u'1294146456',\n",
       " u'1294146535',\n",
       " u'1294146620',\n",
       " u'1294146656',\n",
       " u'1294146700',\n",
       " u'1294146727',\n",
       " u'1294146784',\n",
       " u'1294146851',\n",
       " u'1294146862',\n",
       " u'1294146942',\n",
       " u'1294146978',\n",
       " u'1294147031',\n",
       " u'1294147070',\n",
       " u'1294147178',\n",
       " u'1294147185',\n",
       " u'1294147357',\n",
       " u'1294147397',\n",
       " u'1294147451',\n",
       " u'1294147469',\n",
       " u'1294147554',\n",
       " u'1294147603',\n",
       " u'1294147770',\n",
       " u'1294147807',\n",
       " u'1294147862',\n",
       " u'1294147865',\n",
       " u'1294147891',\n",
       " u'1294147901',\n",
       " u'1294147932',\n",
       " u'1294147983',\n",
       " u'1294147993',\n",
       " u'1294148080',\n",
       " u'1294148119',\n",
       " u'1294148259',\n",
       " u'1294148290',\n",
       " u'1294148369',\n",
       " u'1294148459',\n",
       " u'1294148501',\n",
       " u'1294148552',\n",
       " u'1294148586',\n",
       " u'1294148607',\n",
       " u'1294148666',\n",
       " u'1294148684',\n",
       " u'1294148868',\n",
       " u'1294148903',\n",
       " u'1294149002',\n",
       " u'1294149113',\n",
       " u'1294149197',\n",
       " u'1294149215',\n",
       " u'1294149233',\n",
       " u'1294149306',\n",
       " u'1294149475',\n",
       " u'1294149508',\n",
       " u'1294149568',\n",
       " u'1294149596',\n",
       " u'1294149608',\n",
       " u'1294149695',\n",
       " u'1294149822',\n",
       " u'1294149906',\n",
       " u'1294150007',\n",
       " u'1294150079',\n",
       " u'1294150126',\n",
       " u'1294150290',\n",
       " u'1294150484',\n",
       " u'1294150545',\n",
       " u'1294150885',\n",
       " u'1294150936',\n",
       " u'1294151098',\n",
       " u'1294151143',\n",
       " u'1294151175',\n",
       " u'1294151191',\n",
       " u'1294151291',\n",
       " u'1294151299',\n",
       " u'1294151389',\n",
       " u'1294151425',\n",
       " u'1294151476',\n",
       " u'1294151670',\n",
       " u'1294151733',\n",
       " u'1294151899',\n",
       " u'1294151936',\n",
       " u'1294151986',\n",
       " u'1294151993',\n",
       " u'1294152020',\n",
       " u'1294152104',\n",
       " u'1294152284',\n",
       " u'1294152371',\n",
       " u'1294152460',\n",
       " u'1294152487',\n",
       " u'1294152513',\n",
       " u'1294152595',\n",
       " u'1294152622',\n",
       " u'1294152697',\n",
       " u'1294152736',\n",
       " u'1294152788',\n",
       " u'1294153035',\n",
       " u'1294153126',\n",
       " u'1294153143',\n",
       " u'1294153246',\n",
       " u'1294153420',\n",
       " u'1294153441',\n",
       " u'1294153468',\n",
       " u'1294153486',\n",
       " u'1294153560',\n",
       " u'1294153611',\n",
       " u'1294153670',\n",
       " u'1294153787',\n",
       " u'1294153867',\n",
       " u'1294153925',\n",
       " u'1294154055',\n",
       " u'1294154123',\n",
       " u'1294154148',\n",
       " u'1294154177',\n",
       " u'1294154198',\n",
       " u'1294154208',\n",
       " u'1294154226',\n",
       " u'1294154263',\n",
       " u'1294154320',\n",
       " u'1294154343',\n",
       " u'1294154378',\n",
       " u'1294154394',\n",
       " u'1294154448',\n",
       " u'1294154456',\n",
       " u'1294154510',\n",
       " u'1294154535',\n",
       " u'1294154565',\n",
       " u'1294154584',\n",
       " u'1294154594',\n",
       " u'1294154610',\n",
       " u'1294154662',\n",
       " u'1294154764',\n",
       " u'1294154791',\n",
       " u'1294154823',\n",
       " u'1294154837',\n",
       " u'1294154847',\n",
       " u'1294154891',\n",
       " u'1294154953',\n",
       " u'1294154976',\n",
       " u'1294155008',\n",
       " u'1294155028',\n",
       " u'1294155190',\n",
       " u'1294155235',\n",
       " u'1294155290',\n",
       " u'1294155315',\n",
       " u'1294155363',\n",
       " u'1294155375',\n",
       " u'1294155425',\n",
       " u'1294155478',\n",
       " u'1294155592',\n",
       " u'1294155663',\n",
       " u'1294155756',\n",
       " u'1294155773',\n",
       " u'1294155782',\n",
       " u'1294155922',\n",
       " u'1294156187',\n",
       " u'1294156267',\n",
       " u'1294156433',\n",
       " u'1294156510',\n",
       " u'1294156532',\n",
       " u'1294156705',\n",
       " u'1294156921',\n",
       " u'1294156999',\n",
       " u'1294157215',\n",
       " u'1294157512',\n",
       " u'1294157773',\n",
       " u'1294157921',\n",
       " u'1294158031',\n",
       " u'1294158155',\n",
       " u'1294158323',\n",
       " u'1294158361',\n",
       " u'1294158420',\n",
       " u'1294158441',\n",
       " u'1294158473',\n",
       " u'1294158476',\n",
       " u'1294158500',\n",
       " u'1294158548',\n",
       " u'1294158556',\n",
       " u'1294158645',\n",
       " u'1294158687',\n",
       " u'1294158706',\n",
       " u'1294158716',\n",
       " u'1294158760',\n",
       " u'1294158766',\n",
       " u'1294158841',\n",
       " u'1294158876',\n",
       " u'1294158880',\n",
       " u'1294158920',\n",
       " u'1294159077',\n",
       " u'1294159098',\n",
       " u'1294159179',\n",
       " u'1294159233',\n",
       " u'1294159309',\n",
       " u'1294159375',\n",
       " u'1294159398',\n",
       " u'1294159427',\n",
       " u'1294159444',\n",
       " u'1294159498',\n",
       " u'1294159508',\n",
       " u'1294159562',\n",
       " u'1294159641',\n",
       " u'1294159672',\n",
       " u'1294159692',\n",
       " u'1294159712',\n",
       " u'1294159722',\n",
       " u'1294159777',\n",
       " u'1294159831',\n",
       " u'1294159855',\n",
       " u'1294159889',\n",
       " u'1294159912',\n",
       " u'1294159965',\n",
       " u'1294160022',\n",
       " u'1294160045',\n",
       " u'1294160105',\n",
       " u'1294160185',\n",
       " u'1294160478',\n",
       " u'1294160597',\n",
       " u'1294160738',\n",
       " u'1294160811',\n",
       " u'1294160831',\n",
       " u'1294160936',\n",
       " u'1294161022',\n",
       " u'1294161029',\n",
       " u'1294161115',\n",
       " u'1294161219',\n",
       " u'1294161388',\n",
       " u'1294161569',\n",
       " u'1294161678',\n",
       " u'1294161797',\n",
       " u'1294161802',\n",
       " u'1294161875',\n",
       " u'1294161892',\n",
       " u'1294161997',\n",
       " u'1294162176',\n",
       " u'1294162190',\n",
       " u'1294162487',\n",
       " u'1294162583',\n",
       " u'1294162658',\n",
       " u'1294162685',\n",
       " u'1294162724',\n",
       " u'1294162772',\n",
       " u'1294162796',\n",
       " u'1294162826',\n",
       " u'1294162849',\n",
       " u'1294162860',\n",
       " u'1294162903',\n",
       " u'1294162910',\n",
       " u'1294162965',\n",
       " u'1294162989',\n",
       " u'1294163019',\n",
       " u'1294163041',\n",
       " u'1294163246',\n",
       " u'1294163284',\n",
       " u'1294163327',\n",
       " u'1294163382',\n",
       " u'1294163439',\n",
       " u'1294163463',\n",
       " u'1294163492',\n",
       " u'1294163527',\n",
       " u'1294163542',\n",
       " u'1294163552',\n",
       " u'1294163606',\n",
       " u'1294163655',\n",
       " u'1294163711',\n",
       " u'1294163776',\n",
       " u'1294163831',\n",
       " u'1294164038',\n",
       " u'1294164156',\n",
       " u'1294164318',\n",
       " u'1294164414',\n",
       " u'1294164435',\n",
       " u'1294164713',\n",
       " u'1294164895',\n",
       " u'1294164924',\n",
       " u'1294164956',\n",
       " u'1294164971',\n",
       " u'1294164981',\n",
       " u'1294165066',\n",
       " u'1294165177',\n",
       " u'1294165277',\n",
       " u'1294165358',\n",
       " u'1294165441',\n",
       " u'1294165512',\n",
       " u'1294165548',\n",
       " u'1294165596',\n",
       " u'1294165619',\n",
       " u'1294165660',\n",
       " u'1294165680',\n",
       " u'1294165739',\n",
       " u'1294165746',\n",
       " u'1294165800',\n",
       " u'1294165821',\n",
       " u'1294165871',\n",
       " u'1294166030',\n",
       " u'1294166040',\n",
       " u'1294166116',\n",
       " u'1294166174',\n",
       " u'1294166194',\n",
       " u'1294166237',\n",
       " u'1294166254',\n",
       " u'1294166260',\n",
       " u'1294166370',\n",
       " u'1294166390',\n",
       " u'1294166427',\n",
       " u'1294166446',\n",
       " u'1294166456',\n",
       " u'1294166543',\n",
       " u'1294166598',\n",
       " u'1294166655',\n",
       " u'1294166672',\n",
       " u'1294166682',\n",
       " u'1294166788',\n",
       " u'1294166810',\n",
       " u'1294166847',\n",
       " u'1294166866',\n",
       " u'1294166894',\n",
       " u'1294166993',\n",
       " u'1294167108',\n",
       " u'1294167125',\n",
       " u'1294167134',\n",
       " u'1294167152',\n",
       " u'1294167244',\n",
       " u'1294167280',\n",
       " u'1294167320',\n",
       " u'1294167337',\n",
       " u'1294167345',\n",
       " u'1294167360',\n",
       " u'1294167453',\n",
       " u'1294167509',\n",
       " u'1294167686',\n",
       " u'1294167761',\n",
       " u'1294167889',\n",
       " u'1294167894',\n",
       " u'1294167961',\n",
       " u'1294167986',\n",
       " u'1294168058',\n",
       " u'1294168141',\n",
       " u'1294168171',\n",
       " u'1294168188',\n",
       " u'1294168214',\n",
       " u'1294168251',\n",
       " u'1294168318',\n",
       " u'1294168338',\n",
       " u'1294168365',\n",
       " u'1294168383',\n",
       " u'1294168397',\n",
       " u'1294168453',\n",
       " u'1294168462',\n",
       " u'1294168514',\n",
       " u'1294168539',\n",
       " u'1294168592',\n",
       " u'1294168650',\n",
       " u'1294168667',\n",
       " u'1294168676',\n",
       " u'1294168844',\n",
       " u'1294169037',\n",
       " u'1294169168',\n",
       " u'1294169332',\n",
       " u'1294169542',\n",
       " u'1294169566',\n",
       " u'1294169823',\n",
       " u'1294170048',\n",
       " u'1294170116',\n",
       " u'1294170261',\n",
       " u'1294170877',\n",
       " u'1294170929',\n",
       " u'1294170987',\n",
       " u'1294171012',\n",
       " u'1294171118',\n",
       " u'1294171128',\n",
       " u'1294171144',\n",
       " u'1294171174',\n",
       " u'1294171181',\n",
       " u'1294171298',\n",
       " u'1294171401',\n",
       " u'1294171664',\n",
       " u'1294171684',\n",
       " u'1294171694',\n",
       " u'1294171714',\n",
       " u'1294171743',\n",
       " u'1294171752',\n",
       " u'1294171902',\n",
       " u'1294171990',\n",
       " u'1294172022',\n",
       " u'1294172038',\n",
       " u'1294172093',\n",
       " u'1294172101',\n",
       " u'1294172172',\n",
       " u'1294172206',\n",
       " u'1294172235',\n",
       " u'1294172254',\n",
       " u'1294172280',\n",
       " u'1294172329',\n",
       " u'1294172393',\n",
       " u'1294172448',\n",
       " u'1294172467',\n",
       " u'1294172525',\n",
       " u'1294172533',\n",
       " u'1294172589',\n",
       " u'1294172641',\n",
       " u'1294172689',\n",
       " u'1294172704',\n",
       " u'1294172717',\n",
       " u'1294172740',\n",
       " u'1294172765',\n",
       " u'1294172774',\n",
       " u'1294172901',\n",
       " u'1294173008',\n",
       " u'1294173029',\n",
       " u'1294173061',\n",
       " u'1294173077',\n",
       " u'1294173086',\n",
       " u'1294173141',\n",
       " u'1294173216',\n",
       " u'1294173233',\n",
       " u'1294173273',\n",
       " u'1294173325',\n",
       " u'1294173396',\n",
       " u'1294173452',\n",
       " u'1294173507',\n",
       " u'1294173523',\n",
       " u'1294173533',\n",
       " u'1294173552',\n",
       " u'1294173641',\n",
       " u'1294173661',\n",
       " u'1294173692',\n",
       " u'1294173709',\n",
       " u'1294173722',\n",
       " u'1294173739',\n",
       " u'1294173778',\n",
       " u'1294173856',\n",
       " u'1294173878',\n",
       " u'1294173938',\n",
       " u'1294173964',\n",
       " u'1294173976',\n",
       " u'1294174048',\n",
       " u'1294174067',\n",
       " u'1294174198',\n",
       " u'1294174245',\n",
       " u'1294174248',\n",
       " u'1294174274',\n",
       " u'1294174286',\n",
       " u'1294174365',\n",
       " u'1294174373',\n",
       " u'1294174448',\n",
       " u'1294174471',\n",
       " u'1294174521',\n",
       " u'1294174550',\n",
       " u'1294174594',\n",
       " u'1294174641',\n",
       " u'1294174797',\n",
       " u'1294174888',\n",
       " u'1294174910',\n",
       " u'1294174922',\n",
       " u'1294174977',\n",
       " u'1294174998',\n",
       " u'1294175084',\n",
       " u'1294175111',\n",
       " u'1294175157',\n",
       " u'1294175196',\n",
       " u'1294175220',\n",
       " u'1294175275',\n",
       " u'1294175328',\n",
       " u'1294175356',\n",
       " u'1294175367',\n",
       " u'1294175406',\n",
       " u'1294175416',\n",
       " u'1294175469',\n",
       " u'1294175681',\n",
       " u'1294175710',\n",
       " u'1294175905',\n",
       " u'1294176026',\n",
       " u'1294176035',\n",
       " u'1294176080',\n",
       " u'1294176089',\n",
       " u'1294176163',\n",
       " u'1294176196',\n",
       " u'1294176214',\n",
       " u'1294176224',\n",
       " u'1294176269',\n",
       " u'1294176497',\n",
       " u'1294176528',\n",
       " u'1294176547',\n",
       " u'1294176617',\n",
       " u'1294176668',\n",
       " u'1294176694',\n",
       " u'1294176739',\n",
       " u'1294176751',\n",
       " u'1294176839',\n",
       " u'1294176846',\n",
       " u'1294176985',\n",
       " u'1294177021',\n",
       " u'1294177053',\n",
       " u'1294177315',\n",
       " u'1294177360',\n",
       " u'1294177509',\n",
       " u'1294177545',\n",
       " u'1294177575',\n",
       " u'1294177595',\n",
       " u'1294177632',\n",
       " u'1294177651',\n",
       " u'1294177659',\n",
       " u'1294177715',\n",
       " u'1294177740',\n",
       " u'1294177768',\n",
       " u'1294177789',\n",
       " u'1294177829',\n",
       " u'1294177845',\n",
       " u'1294177857',\n",
       " u'1294177918',\n",
       " u'1294177971',\n",
       " u'1294177993',\n",
       " u'1294178029',\n",
       " u'1294178046',\n",
       " u'1294178055',\n",
       " u'1294178237',\n",
       " u'1294178319',\n",
       " u'1294178342',\n",
       " u'1294178375',\n",
       " u'1294178394',\n",
       " u'1294178404',\n",
       " u'1294178423',\n",
       " u'1294178459',\n",
       " u'1294178514',\n",
       " u'1294178566',\n",
       " u'1294178591',\n",
       " u'1294178640',\n",
       " u'1294178712',\n",
       " u'1294178745',\n",
       " u'1294178762',\n",
       " u'1294178771',\n",
       " u'1294178789',\n",
       " u'1294178816',\n",
       " u'1294178823',\n",
       " u'1294178900',\n",
       " u'1294179039',\n",
       " u'1294179062',\n",
       " u'1294179130',\n",
       " u'1294179138',\n",
       " u'1294179189',\n",
       " u'1294179262',\n",
       " u'1294179289',\n",
       " u'1294179328',\n",
       " u'1294179385',\n",
       " u'1294179529',\n",
       " u'1294179718',\n",
       " u'1294179786',\n",
       " u'1294179836',\n",
       " u'1294180071',\n",
       " u'1294180182',\n",
       " u'1294180357',\n",
       " u'1294180384',\n",
       " u'1294180414',\n",
       " u'1294180438',\n",
       " u'1294180475',\n",
       " u'1294180490',\n",
       " u'1294180499',\n",
       " u'1294180552',\n",
       " u'1294180607',\n",
       " u'1294180645',\n",
       " u'1294180669',\n",
       " u'1294180687',\n",
       " u'1294180697',\n",
       " u'1294180801',\n",
       " u'1294180857',\n",
       " u'1294180909',\n",
       " u'1294180919',\n",
       " u'1294180970',\n",
       " u'1294181024',\n",
       " u'1294181151',\n",
       " u'1294181229',\n",
       " u'1294181255',\n",
       " u'1294181391',\n",
       " u'1294181493',\n",
       " u'1294181549',\n",
       " u'1294181567',\n",
       " u'1294181577',\n",
       " u'1294181595',\n",
       " u'1294181634',\n",
       " u'1294181745',\n",
       " u'1294181764',\n",
       " u'1294181825',\n",
       " u'1294181873',\n",
       " u'1294181894',\n",
       " u'1294181925',\n",
       " u'1294181942',\n",
       " u'1294181952',\n",
       " u'1294181968',\n",
       " u'1294181997',\n",
       " u'1294182009',\n",
       " u'1294182060',\n",
       " u'1294182083',\n",
       " u'1294182113',\n",
       " u'1294182136',\n",
       " u'1294182163',\n",
       " u'1294182200',\n",
       " u'1294182339',\n",
       " u'1294182365',\n",
       " u'1294182491',\n",
       " u'1294182640',\n",
       " u'1294182649',\n",
       " u'1294182703',\n",
       " u'1294182726',\n",
       " u'1294182755',\n",
       " u'1294182779',\n",
       " u'1294182829',\n",
       " u'1294182838',\n",
       " u'1294182891',\n",
       " u'1294182940',\n",
       " u'1294182959',\n",
       " u'1294182998',\n",
       " u'1294183023',\n",
       " u'1463397567',\n",
       " u'1469596928',\n",
       " u'1469596931',\n",
       " u'2007614299',\n",
       " u'2007614309',\n",
       " u'2007614315',\n",
       " u'2007614317',\n",
       " u'2007614319',\n",
       " u'2007614321',\n",
       " u'2007614322',\n",
       " u'2011928956',\n",
       " u'2011928967',\n",
       " u'2011928969',\n",
       " u'2011928970',\n",
       " u'2011928975',\n",
       " u'2011928976',\n",
       " u'2011946847',\n",
       " u'2011946848',\n",
       " u'2011946849',\n",
       " u'2011946850',\n",
       " u'2011946851',\n",
       " u'2011946852',\n",
       " u'2011946853',\n",
       " u'2031137513',\n",
       " u'558819400'}"
      ]
     },
     "execution_count": 22,
     "metadata": {},
     "output_type": "execute_result"
    }
   ],
   "source": [
    "#get the node references that are not found as node tags\n",
    "set(node_l) - set(node_full_l)"
   ]
  },
  {
   "cell_type": "code",
   "execution_count": 23,
   "metadata": {
    "collapsed": false
   },
   "outputs": [],
   "source": [
    "\"\"\"\n",
    "the node not found in the node_full_l is in the open street map\n",
    "1294143478\n",
    "http://www.openstreetmap.org/node/1294143478\n",
    "\n",
    "It just wasn't part of the region that was exported to the .osm file.\n",
    "\"\"\"\n",
    "for c in db.berkeley.find({\"id\":\"1294143478\"}):\n",
    "    pprint.pprint(c) #nothing returned"
   ]
  },
  {
   "cell_type": "markdown",
   "metadata": {},
   "source": [
    "I can find the nodes by querying the open street map page by node id number:\n",
    "For example:\n",
    "http://www.openstreetmap.org/node/1294181773\n",
    "\n",
    "1294145185: near CA-13 highway, Alameda County farm import"
   ]
  },
  {
   "cell_type": "code",
   "execution_count": 24,
   "metadata": {
    "collapsed": false
   },
   "outputs": [
    {
     "data": {
      "text/plain": [
       "[{u'_id': {u'id': u'376265067'}, u'node_count': 1},\n",
       " {u'_id': {u'id': u'416784160'}, u'node_count': 1},\n",
       " {u'_id': {u'id': u'438682980'}, u'node_count': 1},\n",
       " {u'_id': {u'id': u'438683950'}, u'node_count': 2},\n",
       " {u'_id': {u'id': u'438682992'}, u'node_count': 2}]"
      ]
     },
     "execution_count": 24,
     "metadata": {},
     "output_type": "execute_result"
    }
   ],
   "source": [
    "#least number of node references per way\n",
    "query=[{\"$match\": {\"type\":\"way\"}},\n",
    "       {\"$unwind\": \"$node_refs\"},\n",
    "       {\"$group\": {\"_id\": {\"id\":\"$id\"},\n",
    "                   \"node_count\": {\"$sum\": 1}}},\n",
    "       {\"$sort\": {\"node_count\": 1}},\n",
    "       {\"$limit\": 5}\n",
    "      ]\n",
    "cursor = db.berkeley.aggregate(query)\n",
    "result = [c for c in cursor]\n",
    "result"
   ]
  },
  {
   "cell_type": "code",
   "execution_count": 25,
   "metadata": {
    "collapsed": false
   },
   "outputs": [
    {
     "data": {
      "text/plain": [
       "[{u'_id': u'average nodes per way', u'avg': 8.082612090844016}]"
      ]
     },
     "execution_count": 25,
     "metadata": {},
     "output_type": "execute_result"
    }
   ],
   "source": [
    "\"\"\"\n",
    "average number of node references per way\n",
    "for ways that have at least one node reference\n",
    "\"\"\"\n",
    "query=[{\"$match\": {\"type\":\"way\"}},\n",
    "       {\"$unwind\": \"$node_refs\"},\n",
    "       {\"$group\": {\"_id\": \"$id\",\n",
    "                   \"node_count\": {\"$sum\": 1}}},\n",
    "       {\"$group\": {\"_id\": \"average nodes per way\",\n",
    "                   \"avg\": {\"$avg\": \"$node_count\"}\n",
    "        }\n",
    "       },\n",
    "       #{\"$sort\": {\"node_count\": 1}},\n",
    "       {\"$limit\": 5}\n",
    "      ]\n",
    "cursor = db.berkeley.aggregate(query)\n",
    "result = [c for c in cursor]\n",
    "result"
   ]
  },
  {
   "cell_type": "markdown",
   "metadata": {},
   "source": [
    "plot of number of node references"
   ]
  },
  {
   "cell_type": "code",
   "execution_count": 26,
   "metadata": {
    "collapsed": false
   },
   "outputs": [],
   "source": [
    "#least number of node references per way\n",
    "query=[{\"$match\": {\"type\":\"way\"}},\n",
    "       {\"$unwind\": \"$node_refs\"},\n",
    "       {\"$group\": {\"_id\": {\"id\":\"$id\"},\n",
    "                   \"node_count\": {\"$sum\": 1}}},\n",
    "       {\"$sort\": {\"node_count\": 1}},\n",
    "       {\"$project\": {\"_id\":0,\"node_count\":1}}\n",
    "      ]\n",
    "cursor = db.berkeley.aggregate(query)\n",
    "result = [c['node_count'] for c in cursor]\n",
    "node_count_arr = np.array(result)"
   ]
  },
  {
   "cell_type": "code",
   "execution_count": 27,
   "metadata": {
    "collapsed": false
   },
   "outputs": [
    {
     "data": {
      "image/png": "[encoded data removed]",
      "text/plain": [
       "<matplotlib.figure.Figure at 0x119b314d0>"
      ]
     },
     "metadata": {},
     "output_type": "display_data"
    }
   ],
   "source": [
    "plt.hist(node_count_arr,bins=40,range=(0,40));\n",
    "plt.title('99% of ways reference 14 or fewer nodes');\n",
    "plt.xlabel(\"number of nodes referenced by way\");\n",
    "plt.ylabel(\"count of ways\");"
   ]
  },
  {
   "cell_type": "code",
   "execution_count": 28,
   "metadata": {
    "collapsed": false
   },
   "outputs": [
    {
     "name": "stdout",
     "output_type": "stream",
     "text": [
      "25% 5.0 50% 5.0 75% 9.0 99% 14.0\n"
     ]
    }
   ],
   "source": [
    "(q25,q50,q75,q90,q99) = np.percentile(node_count_arr,[25,50,75,90,99])\n",
    "print \"25% {} 50% {} 75% {} 99% {}\".format(q25,q50,q75,q90,q99)"
   ]
  },
  {
   "cell_type": "markdown",
   "metadata": {},
   "source": [
    "How many ways are associated with each node on average?"
   ]
  },
  {
   "cell_type": "code",
   "execution_count": 29,
   "metadata": {
    "collapsed": false
   },
   "outputs": [],
   "source": [
    "\"\"\"\n",
    "We're starting with one way referencing many nodes in a list.\n",
    "The desired format is one node referencing multiple ways, \n",
    "and then counting how many ways per node.\n",
    "\n",
    "Also, we want to make sure that the starting list of node \n",
    "references is unique.\n",
    "\n",
    "First, unwind the node_refs list, then re-add them to a set\n",
    "'unique_nodes'.  Then we can unwind the set so that\n",
    "each document has one way and one node.\n",
    "\n",
    "Then we can group by node and count the number of ways,\n",
    "as well as add the id of each way to a set.\n",
    "\"\"\"\n",
    "\n",
    "query = [\n",
    "    {\"$match\": {\"type\": \"way\"}},\n",
    "    {\"$unwind\": \"$node_refs\"},\n",
    "    {\"$group\": {\"_id\":{\"way_id\": \"$id\"},\n",
    "                \"unique_nodes\": {\"$addToSet\": \"$node_refs\"}\n",
    "               }},\n",
    "    {\"$unwind\": \"$unique_nodes\"},\n",
    "    {\"$group\": {\"_id\": {\"node_id\":\"$unique_nodes\"},\n",
    "                \"way_count\": {\"$sum\": 1},\n",
    "                \"way_set\": {\"$addToSet\": \"$_id.way_id\"}\n",
    "               }},\n",
    "    {\"$sort\": {\"way_count\": -1}}\n",
    "    #,{\"$limit\":3}\n",
    "]\n",
    "node_l = [c['way_count'] for c in db.berkeley.aggregate(query)]"
   ]
  },
  {
   "cell_type": "code",
   "execution_count": 30,
   "metadata": {
    "collapsed": false
   },
   "outputs": [
    {
     "data": {
      "image/png": "[encoded data removed]",
      "text/plain": [
       "<matplotlib.figure.Figure at 0x111b06950>"
      ]
     },
     "metadata": {},
     "output_type": "display_data"
    }
   ],
   "source": [
    "plt.hist(node_l);\n",
    "plt.title(\"Most nodes are linked to just one way\");\n",
    "plt.xlabel(\"number of ways that refer to a particular node\");\n",
    "plt.ylabel(\"count of nodes\");"
   ]
  },
  {
   "cell_type": "markdown",
   "metadata": {},
   "source": [
    "One node: 53035669 has 7 ways.\n",
    "http://www.openstreetmap.org/node/53035669\n",
    "\n",
    "When searching the map, we see that it is the intersection of 6 streets and a neighbordhood border: Park Boulevard (two-way), Park Boulevard (two one-way lanes), Excelsior Avenue, Alma Place, Grosvenor Place, and also a neighborhood border (Glenview)."
   ]
  },
  {
   "cell_type": "markdown",
   "metadata": {},
   "source": [
    "Average number of ways per node?"
   ]
  },
  {
   "cell_type": "code",
   "execution_count": 31,
   "metadata": {
    "collapsed": false
   },
   "outputs": [
    {
     "data": {
      "text/plain": [
       "[{u'_id': u'avg_way_count_per_node', u'avg_way_count': 1.1447853309926048}]"
      ]
     },
     "execution_count": 31,
     "metadata": {},
     "output_type": "execute_result"
    }
   ],
   "source": [
    "query = [\n",
    "    {\"$match\": {\"type\": \"way\"}},\n",
    "    {\"$unwind\": \"$node_refs\"},\n",
    "    {\"$group\": {\"_id\":{\"way_id\": \"$id\"},\n",
    "                \"unique_nodes\": {\"$addToSet\": \"$node_refs\"}\n",
    "               }},\n",
    "    {\"$unwind\": \"$unique_nodes\"},\n",
    "    {\"$group\": {\"_id\": {\"node_id\":\"$unique_nodes\"},\n",
    "                \"way_count\": {\"$sum\": 1},\n",
    "               }},\n",
    "    {\"$group\": {\"_id\":\"avg_way_count_per_node\",\n",
    "                \"avg_way_count\": {\"$avg\": \"$way_count\"}\n",
    "               }},\n",
    "    {\"$limit\":3}\n",
    "    ]\n",
    "node_l = [c for c in db.berkeley.aggregate(query)]\n",
    "node_l"
   ]
  },
  {
   "cell_type": "code",
   "execution_count": null,
   "metadata": {
    "collapsed": true
   },
   "outputs": [],
   "source": []
  }
 ],
 "metadata": {
  "anaconda-cloud": {},
  "kernelspec": {
   "display_name": "Python [Root]",
   "language": "python",
   "name": "Python [Root]"
  },
  "language_info": {
   "codemirror_mode": {
    "name": "ipython",
    "version": 2
   },
   "file_extension": ".py",
   "mimetype": "text/x-python",
   "name": "python",
   "nbconvert_exporter": "python",
   "pygments_lexer": "ipython2",
   "version": "2.7.12"
  }
 },
 "nbformat": 4,
 "nbformat_minor": 0
}
