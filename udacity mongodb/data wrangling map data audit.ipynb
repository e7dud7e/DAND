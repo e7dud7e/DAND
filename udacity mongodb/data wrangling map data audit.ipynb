{
 "cells": [
  {
   "cell_type": "markdown",
   "metadata": {},
   "source": [
    "Downloaded Open Street Map data for the Berkeley area using the API:\n",
    "http://overpass-api.de/query_form.html\n",
    "With query:\n",
    "(node(37.7983,-122.3504,37.8873,-122.1929);<;);out meta;\n",
    "\n",
    "Saved the file as berkeley.osm"
   ]
  },
  {
   "cell_type": "code",
   "execution_count": 3,
   "metadata": {
    "collapsed": true
   },
   "outputs": [],
   "source": [
    "import xml.etree.cElementTree as ET\n",
    "import re\n",
    "from collections import defaultdict\n",
    "import pprint\n",
    "import codecs\n",
    "import json"
   ]
  },
  {
   "cell_type": "code",
   "execution_count": 4,
   "metadata": {
    "collapsed": true
   },
   "outputs": [],
   "source": [
    "osm_file = 'berkeley.osm'"
   ]
  },
  {
   "cell_type": "code",
   "execution_count": 5,
   "metadata": {
    "collapsed": true
   },
   "outputs": [],
   "source": [
    "expected_street_type_list = ['Street','Avenue','Boulevard','Drive','Court',\n",
    "                             'Place','Alameda','Broadway','Road','Parkway','Way',\n",
    "                            'Plaza','Square','Telegraph']\n",
    "street_type_re = re.compile(r'\\b\\S+\\.?$', re.IGNORECASE)\n",
    "special_chars_re = re.compile(r'[=\\+/&<>;\"\\?%#$@\\,\\.]')\n",
    "abbreviations_re = re.compile(r'[Bb]e?twe?e?n ')\n",
    "cardinal_direction_re = re.compile(r'[\\s]*[NSEW][\\s]+')\n",
    "starts_numeric_re = re.compile(r'^[\\d]+')\n",
    "numbered_street_re = re.compile(r'^[\\d]+(st|nd|rd|th)')\n",
    "\n",
    "#find numbers that start street names, except for \n",
    "#1st, 2nd, 3rd 4th, 5th street etc\n",
    "#numbers probably should go with the street number field\n",
    "non_numeric_re = re.compile(r'^(\\d+)') \n",
    "word_replace = {'Btwn': 'Between',\n",
    "               'btwn': 'btwn',\n",
    "               'St': 'Street',\n",
    "               'St.': 'Street',\n",
    "               'Ct': 'Court',\n",
    "               'Ct.': 'Court',\n",
    "               'Pl': 'Plaza',\n",
    "               'Pl.': 'Plaza',\n",
    "               'Ave': 'Avenue',\n",
    "               'Ave.': 'Avenue',\n",
    "               'Sq': 'Square',\n",
    "               'Sq.': 'Square'}"
   ]
  },
  {
   "cell_type": "code",
   "execution_count": 6,
   "metadata": {
    "collapsed": true
   },
   "outputs": [],
   "source": [
    "def is_street_name(elem):\n",
    "    return (elem.attrib['k'] == \"addr:street\")"
   ]
  },
  {
   "cell_type": "code",
   "execution_count": 7,
   "metadata": {
    "collapsed": true
   },
   "outputs": [],
   "source": [
    "def is_postal(elem):\n",
    "    return (elem.attrib['k'] == \"addr:postcode\")"
   ]
  },
  {
   "cell_type": "code",
   "execution_count": 8,
   "metadata": {
    "collapsed": true
   },
   "outputs": [],
   "source": [
    "def is_housenumber(elem):\n",
    "    return (elem.attrib['k'] == \"addr:housenumber\")"
   ]
  },
  {
   "cell_type": "code",
   "execution_count": 9,
   "metadata": {
    "collapsed": true
   },
   "outputs": [],
   "source": [
    "def is_lanes(elem):\n",
    "    return (elem.get('k') == \"lanes\")"
   ]
  },
  {
   "cell_type": "code",
   "execution_count": 10,
   "metadata": {
    "collapsed": true
   },
   "outputs": [],
   "source": [
    "def is_amenity(elem):\n",
    "    return (elem.get('k') == \"amenity\")"
   ]
  },
  {
   "cell_type": "code",
   "execution_count": 11,
   "metadata": {
    "collapsed": true
   },
   "outputs": [],
   "source": [
    "def audit_street(street_dict, val):\n",
    "    #m = street_type_re.search(val)\n",
    "    #if m:\n",
    "    #    street_type = m.group()\n",
    "    #    if street_type not in expected_street_type_list:\n",
    "    #        street_dict[street_type].add(val)\n",
    "    #m = special_chars_re.search(val)\n",
    "    #if m:\n",
    "    #    street_dict[m.group()].add(val)\n",
    "    #m = abbreviations_re.search(val)\n",
    "    #if m:\n",
    "    #    street_dict[m.group()].add(val)\n",
    "    #m = cardinal_direction_re.search(val)\n",
    "    #if m:\n",
    "    #    street_dict[m.group()].add(val)\n",
    "    m = starts_numeric_re.search(val)\n",
    "    n = numbered_street_re.search(val)\n",
    "    if m and not n:\n",
    "        street_dict[m.group()].add(val)"
   ]
  },
  {
   "cell_type": "code",
   "execution_count": 12,
   "metadata": {
    "collapsed": true
   },
   "outputs": [],
   "source": [
    "def audit_postal(audit_dict,postal):\n",
    "    postal_length = len(postal)\n",
    "    audit_dict[postal_length].add(postal)"
   ]
  },
  {
   "cell_type": "code",
   "execution_count": 13,
   "metadata": {
    "collapsed": true
   },
   "outputs": [],
   "source": [
    "def audit_housenumber(audit_dict,val):\n",
    "    m = non_numeric_re.search(val)\n",
    "    if m:\n",
    "        audit_dict[m.group()].add(val)"
   ]
  },
  {
   "cell_type": "code",
   "execution_count": 14,
   "metadata": {
    "collapsed": true
   },
   "outputs": [],
   "source": [
    "def audit_lanes(audit_dict,val):\n",
    "    audit_dict[val] = val"
   ]
  },
  {
   "cell_type": "code",
   "execution_count": 15,
   "metadata": {
    "collapsed": true
   },
   "outputs": [],
   "source": [
    "def audit_amenity(audit_dict,val):\n",
    "    audit_dict[val] = val"
   ]
  },
  {
   "cell_type": "code",
   "execution_count": 16,
   "metadata": {
    "collapsed": true
   },
   "outputs": [],
   "source": [
    "def audit(osm_file,audit_dict):\n",
    "    counter = 0\n",
    "    counter_max = 500000\n",
    "    for event, elem in ET.iterparse(osm_file, events=(\"start\",)):\n",
    "        if elem.tag in [\"way\",'node']:\n",
    "            counter +=1\n",
    "            for tag in elem.iter(\"tag\"):\n",
    "                val = tag.attrib['v']\n",
    "                #if is_street_name(tag):\n",
    "                #    audit_street(audit_dict,tag.attrib['v'])\n",
    "                if is_postal(tag):\n",
    "                    audit_postal(audit_dict,tag.attrib['v'])\n",
    "                #if is_housenumber(tag):\n",
    "                #    audit_housenumber(audit_dict,tag.attrib['v'])\n",
    "                #if is_lanes(tag):\n",
    "                #    audit_lanes(audit_dict,val)\n",
    "                #if is_amenity(tag):\n",
    "                #    audit_amenity(audit_dict,val)\n",
    "\n",
    "        else:\n",
    "            continue\n",
    "        if counter > counter_max:\n",
    "            break\n",
    "    pprint.pprint(dict(audit_dict))"
   ]
  },
  {
   "cell_type": "code",
   "execution_count": 17,
   "metadata": {
    "collapsed": false
   },
   "outputs": [
    {
     "name": "stdout",
     "output_type": "stream",
     "text": [
      "{2: set(['ca']),\n",
      " 5: set(['93710',\n",
      "         '94109',\n",
      "         '94110',\n",
      "         '94601',\n",
      "         '94602',\n",
      "         '94605',\n",
      "         '94606',\n",
      "         '94607',\n",
      "         '94608',\n",
      "         '94609',\n",
      "         '94610',\n",
      "         '94611',\n",
      "         '94612',\n",
      "         '94618',\n",
      "         '94702',\n",
      "         '94703',\n",
      "         '94704',\n",
      "         '94705',\n",
      "         '94706',\n",
      "         '94707',\n",
      "         '94708',\n",
      "         '94709',\n",
      "         '94710',\n",
      "         '94720',\n",
      "         '95476']),\n",
      " 8: set(['CA 94607']),\n",
      " 10: set(['94612-2202', '94720-1076'])}\n"
     ]
    }
   ],
   "source": [
    "if __name__ == '__main__':\n",
    "    #street_type_dict = defaultdict(set)\n",
    "    #audit(osm_file,street_type_dict)\n",
    "    audit_dict = defaultdict(set)\n",
    "    audit(osm_file,audit_dict)"
   ]
  },
  {
   "cell_type": "markdown",
   "metadata": {},
   "source": [
    "Some expected street names are Plaza, Court, and Square.  The abbreviations Ct and Pl can be replaced by Court and Plaza.\n",
    "\n",
    "I noticed that some street names are more like descriptions of intersections of boundaries between two streets.  The abbreviation [Bb]twn can be replaced with 'between'.  The @ can be replaced with 'at'.\n",
    "\n",
    "Also, a few street names include the street number, such as 111 Grand Avenue, 3605 Telegraph.  I may want to put the number in the addr:housenumber field."
   ]
  },
  {
   "cell_type": "markdown",
   "metadata": {},
   "source": [
    "For postcode, some include the state abbreviation 'CA' followed by the 5-digit postal code, some have the 'ca' state only, and some have the hyphenated zip code extension with four additional digits.  If there are non-numeric values in postcode, I will remove the letters.  I'll also remove the hyphen and extension."
   ]
  },
  {
   "cell_type": "markdown",
   "metadata": {},
   "source": [
    "For housenumber, some include alpha chars and dashes to represent a range, or are comma separated.  For those that are '-' or ',' separated, it might make sense to turn that into a list."
   ]
  },
  {
   "cell_type": "markdown",
   "metadata": {},
   "source": [
    "For lanes, one of the values is 18 lanes."
   ]
  },
  {
   "cell_type": "code",
   "execution_count": 109,
   "metadata": {
    "collapsed": false
   },
   "outputs": [
    {
     "ename": "SyntaxError",
     "evalue": "invalid syntax (<ipython-input-109-a6853b00d32e>, line 1)",
     "output_type": "error",
     "traceback": [
      "\u001b[0;36m  File \u001b[0;32m\"<ipython-input-109-a6853b00d32e>\"\u001b[0;36m, line \u001b[0;32m1\u001b[0m\n\u001b[0;31m    <way id=\"236348366\" version=\"5\" timestamp=\"2015-04-26T17:19:49Z\" changeset=\"30510468\" uid=\"61\u001b[0m\n\u001b[0m    ^\u001b[0m\n\u001b[0;31mSyntaxError\u001b[0m\u001b[0;31m:\u001b[0m invalid syntax\n"
     ]
    }
   ],
   "source": [
    "<way id=\"236348366\" version=\"5\" timestamp=\"2015-04-26T17:19:49Z\" changeset=\"30510468\" uid=\"61\n",
    "6774\" user=\"mueschel\">\n",
    "    <nd ref=\"293598417\"/>\n",
    "    <nd ref=\"667724547\"/>\n",
    "    <tag k=\"bicycle\" v=\"no\"/>\n",
    "    <tag k=\"hgv\" v=\"no\"/>\n",
    "    <tag k=\"highway\" v=\"motorway\"/>\n",
    "    <tag k=\"lanes\" v=\"18\"/>\n",
    "    <tag k=\"maxspeed\" v=\"50 mph\"/>\n",
    "    <tag k=\"oneway\" v=\"yes\"/>\n",
    "    <tag k=\"ref\" v=\"I 80\"/>\n",
    "    <tag k=\"tiger:cfcc\" v=\"A11\"/>\n",
    "    <tag k=\"tiger:county\" v=\"Alameda, CA\"/>\n",
    "    <tag k=\"tiger:name_base\" v=\"I-80\"/>\n",
    "    <tag k=\"toll\" v=\"yes\"/>\n",
    "  </way>"
   ]
  },
  {
   "cell_type": "markdown",
   "metadata": {},
   "source": [
    "Looking at the node associated with this way, it's a toll booth, so 18 lanes probably makes sense.  It's proably the toll booth for the San Francisco Bay Bridge."
   ]
  },
  {
   "cell_type": "code",
   "execution_count": 110,
   "metadata": {
    "collapsed": false
   },
   "outputs": [
    {
     "ename": "SyntaxError",
     "evalue": "invalid syntax (<ipython-input-110-4249a41f3ebc>, line 1)",
     "output_type": "error",
     "traceback": [
      "\u001b[0;36m  File \u001b[0;32m\"<ipython-input-110-4249a41f3ebc>\"\u001b[0;36m, line \u001b[0;32m1\u001b[0m\n\u001b[0;31m    <node id=\"293598417\" lat=\"37.8247804\" lon=\"-122.3138369\" version=\"6\" timestamp=\"2015-04-26T17:19:50Z\" changeset=\"30510468\" uid=\"616774\" user=\"mueschel\">\u001b[0m\n\u001b[0m    ^\u001b[0m\n\u001b[0;31mSyntaxError\u001b[0m\u001b[0;31m:\u001b[0m invalid syntax\n"
     ]
    }
   ],
   "source": [
    "  <node id=\"293598417\" lat=\"37.8247804\" lon=\"-122.3138369\" version=\"6\" timestamp=\"2015-04-26T17:19:50Z\" changeset=\"30510468\" uid=\"616774\" user=\"mueschel\">\n",
    "    <tag k=\"barrier\" v=\"toll_booth\"/>\n",
    "    <tag k=\"lanes\" v=\"18\"/>"
   ]
  },
  {
   "cell_type": "markdown",
   "metadata": {},
   "source": [
    "Amenity has some values that similar, and probably can be standardized:\n",
    "\n",
    "Standardize these\n",
    " 'car_share'\n",
    " 'car_sharing'\n",
    " \n",
    " These are different: a post_box is probably just a box for dropping off letters, whereas a post office has a name referring to an post office building with employees\n",
    " 'post_box'\n",
    " 'post_office'\n",
    " \n",
    " Simplify these to just parking\n",
    " 'parking'\n",
    " 'parking_entrance'\n",
    " 'parking_space'\n",
    " \n",
    " Standardize these\n",
    " 'car_share'\n",
    " 'car_sharing'\n",
    "\n",
    "The values 'college', 'university', are used somewhat interchangeably, so it may make sense to put these in a sub-dictionary \n",
    "\n",
    " This may be useful information for taxi drivers\n",
    " 'toilets'\n",
    " \n"
   ]
  },
  {
   "cell_type": "markdown",
   "metadata": {},
   "source": [
    "Toilets are either denoted by k=\"amenity\" v=\"toilets\", or in the case of BART public train stations, by k=\"toilets\" v=\"yes\""
   ]
  },
  {
   "cell_type": "markdown",
   "metadata": {},
   "source": [
    "Clean data"
   ]
  },
  {
   "cell_type": "code",
   "execution_count": null,
   "metadata": {
    "collapsed": true
   },
   "outputs": [],
   "source": []
  }
 ],
 "metadata": {
  "anaconda-cloud": {},
  "kernelspec": {
   "display_name": "Python [Root]",
   "language": "python",
   "name": "Python [Root]"
  },
  "language_info": {
   "codemirror_mode": {
    "name": "ipython",
    "version": 2
   },
   "file_extension": ".py",
   "mimetype": "text/x-python",
   "name": "python",
   "nbconvert_exporter": "python",
   "pygments_lexer": "ipython2",
   "version": "2.7.12"
  }
 },
 "nbformat": 4,
 "nbformat_minor": 0
}
