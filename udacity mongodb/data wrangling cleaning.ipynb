{
 "cells": [
  {
   "cell_type": "markdown",
   "metadata": {},
   "source": [
    "Clean data, create dictionary object, and save to json file"
   ]
  },
  {
   "cell_type": "code",
   "execution_count": 2,
   "metadata": {
    "collapsed": true
   },
   "outputs": [],
   "source": [
    "import xml.etree.cElementTree as ET\n",
    "import re\n",
    "from collections import defaultdict\n",
    "import pprint\n",
    "import codecs\n",
    "import json"
   ]
  },
  {
   "cell_type": "code",
   "execution_count": 1,
   "metadata": {
    "collapsed": true
   },
   "outputs": [],
   "source": [
    "osm_file = 'berkeley.osm'"
   ]
  },
  {
   "cell_type": "code",
   "execution_count": 292,
   "metadata": {
    "collapsed": true
   },
   "outputs": [],
   "source": [
    "\"\"\"\n",
    "Within a <node> or <way> element, a sub-element <tag>\n",
    "has attributes 'k' and 'v' (for key and value).\n",
    "If the 'k' has special characters (other than ':' or '_', \n",
    "do not save these to the final output.)\n",
    "\"\"\"\n",
    "problemchars = re.compile(r'[=\\+/&<>;\\'\"\\?%#$@\\,\\. \\t\\r\\n]')\n",
    "\n",
    "\"\"\"\n",
    "For street names, \n",
    "check if the housenumber is also entered before the street name \n",
    "using starts_numeric_re.\n",
    "\n",
    "Also, exclude the cases where the street name is a number,\n",
    "such as 1st, street, 22nd street, 3rd street, 44th street,\n",
    "using numbered_street_re\n",
    "\"\"\"\n",
    "starts_numeric_re = re.compile(r'^[\\d]+')\n",
    "numbered_street_re = re.compile(r'^[\\d]+(st|nd|rd|th)')\n",
    "\n",
    "\"\"\"\n",
    "For post code, one re is for when there is no extension,\n",
    "the second is for when there is an extension.\n",
    "This is because the re that includes the '-' ends up putting the last digit\n",
    "of the post code into the extension when there is no '-'\n",
    "\n",
    "\"\"\"\n",
    "post_re = re.compile(r'(?P<state>[a-zA-Z]*)[\\s]*(?P<post>[\\d]+)')\n",
    "post_ext_re = re.compile(r'(?P<state>[a-zA-Z]*)[\\s]*(?P<post>[\\d]+)-?(?P<ext>[\\d]+)')"
   ]
  },
  {
   "cell_type": "code",
   "execution_count": 301,
   "metadata": {
    "collapsed": true
   },
   "outputs": [],
   "source": [
    "\"\"\"\n",
    "If fields encountered happen to be the same as reserved field names\n",
    "that are already being used, then give them a different field name\n",
    "\"\"\"\n",
    "reserved_field = {\n",
    "    'type'   :'type_',\n",
    "    'pos'    :'pos_',\n",
    "    'created':'created_',\n",
    "    'address':'address_'\n",
    "}\n",
    "\n",
    "\"\"\"\n",
    "Within the <node> or <way> element, \"k\" attribute \"lon\" and \"lat\" \n",
    "are positions longitude and latitude\n",
    "\"\"\"\n",
    "POS = [\"lon\", \"lat\"]\n",
    "\n",
    "\"\"\"\n",
    "Within the <node> or <way> element, some attributes are related to\n",
    "the creation of the data point.  When saving the cleaned data,\n",
    "these fields will be grouped together in the field 'created'\n",
    "\"\"\"\n",
    "CREATED = [ \"version\", \"changeset\", \"timestamp\", \"user\", \"uid\"]"
   ]
  },
  {
   "cell_type": "code",
   "execution_count": 291,
   "metadata": {
    "collapsed": true
   },
   "outputs": [],
   "source": [
    "\"\"\"\n",
    "The key is the street type abbreviation,\n",
    "and the value is the full street type to replace it with\n",
    "\"\"\"\n",
    "street_type_d = {\n",
    "               'St': 'Street',\n",
    "               'St.': 'Street',\n",
    "               'Ct': 'Court',\n",
    "               'Ct.': 'Court',\n",
    "               'Pl': 'Plaza',\n",
    "               'Pl.': 'Plaza',\n",
    "               'Ave': 'Avenue',\n",
    "               'Ave.': 'Avenue',\n",
    "               'Sq': 'Square',\n",
    "               'Sq.': 'Square'    \n",
    "}"
   ]
  },
  {
   "cell_type": "code",
   "execution_count": 293,
   "metadata": {
    "collapsed": true
   },
   "outputs": [],
   "source": [
    "amenity_d = {\n",
    "    'car_share': 'car_sharing',\n",
    "    'parking_space': 'parking',\n",
    "    'parking_entrance': 'parking'\n",
    "}"
   ]
  },
  {
   "cell_type": "code",
   "execution_count": 313,
   "metadata": {
    "collapsed": false
   },
   "outputs": [],
   "source": [
    "operator_d = {\n",
    "    'BART': 'Bay Area Rapid Transit (BART)',\n",
    "    'Bay Area Rapid Transit':'Bay Area Rapid Transit (BART)',\n",
    "    '7-11':'7-Eleven',\n",
    "    'ac transit': 'AC Transit',\n",
    "    'BUSD':'Berkeley Unified School District',\n",
    "    'city of oakland':'City of Oakland',\n",
    "    'EBMUD':'East Bay Municipal Utility District',\n",
    "    'UC Berkeley': 'University of California, Berkeley (Cal)',\n",
    "    'UCBerkeley':'University of California, Berkeley (Cal)',\n",
    "    'University California Berkeley':'University of California, Berkeley (Cal)',\n",
    "    'University of California, Berkeley':'University of California, Berkeley (Cal)',\n",
    "    'UC Berkeley - Parking and Transportation':'University of California, Berkeley (Cal)',\n",
    "    'Zip Car': 'Zipcar',\n",
    "    'ups;fedex': ['UPS','Fedex'],\n",
    "    'walgreens':'Walgreens'\n",
    "}"
   ]
  },
  {
   "cell_type": "code",
   "execution_count": 290,
   "metadata": {
    "collapsed": true
   },
   "outputs": [],
   "source": [
    "\"\"\"\n",
    "Input: file name of input open street map xml file.\n",
    "Output: json file written to disk, \n",
    "representing the  data from the xml file, \n",
    "after it has been re-shaped and cleaned\n",
    "\"\"\"\n",
    "\n",
    "def process_map(file_in):\n",
    "    file_out = \"{0}.json\".format(file_in)\n",
    "    pretty = True\n",
    "    with codecs.open(file_out, \"w\") as fo:\n",
    "        for _, element in ET.iterparse(file_in):\n",
    "            node = shape_element(element)\n",
    "            if node:\n",
    "                if pretty:\n",
    "                    fo.write(json.dumps(node, indent=2)+\"\\n\")\n",
    "                else:\n",
    "                    fo.write(json.dumps(node) + \"\\n\")"
   ]
  },
  {
   "cell_type": "code",
   "execution_count": 295,
   "metadata": {
    "collapsed": true
   },
   "outputs": [],
   "source": [
    "\"\"\"\n",
    "Input: xml Element\n",
    "Output: a dictionary containing the fields \n",
    "gathered from the input element\n",
    "\"\"\"\n",
    "def shape_element(element):\n",
    "    node = None\n",
    "    if element.tag == \"node\" or element.tag == \"way\" :\n",
    "        node = init_node(element)\n",
    "        node = shape_attr(element,node)\n",
    "        #process child elements (may be tag, nd )\n",
    "        (address_d,other_d,ndref_l) = collect_sub(element)\n",
    "        address_d = clean_addr(address_d)\n",
    "        node['address'] = address_d['address']\n",
    "        other_d = clean_other(other_d)\n",
    "        for key,val in other_d.items():\n",
    "            node[key] = val\n",
    "        node['node_refs'] = ndref_l\n",
    "        node = remove_unused(node)\n",
    "    return node"
   ]
  },
  {
   "cell_type": "code",
   "execution_count": 288,
   "metadata": {
    "collapsed": true
   },
   "outputs": [],
   "source": [
    "\"\"\"\n",
    "Input: xml etree ElementTree Element\n",
    "\n",
    "Output: node is a dictionary with the 'type' field set,\n",
    "and also default fields that are also dictionaries or lists\n",
    "\"\"\"\n",
    "\n",
    "def init_node(element):\n",
    "    node = {'created': dict(),\n",
    "            'pos': list(),\n",
    "            'address': dict(),\n",
    "            'node_refs': list()}\n",
    "    node['type'] = element.tag\n",
    "    return node"
   ]
  },
  {
   "cell_type": "code",
   "execution_count": 287,
   "metadata": {
    "collapsed": true
   },
   "outputs": [],
   "source": [
    "\"\"\"\n",
    "Input: xml etree ElementTree Element (element) and dictionary (node).\n",
    "The node is already initialized to contain some default fields,\n",
    "such as 'created', 'pos', 'address', 'node_refs'.\n",
    "\n",
    "Output: the modified node has fields set for 'created', 'pos', and 'type'\n",
    "\"\"\"\n",
    "\n",
    "def shape_attr(element,node):\n",
    "    attrib_list = element.keys()\n",
    "    for a in attrib_list:\n",
    "        if a in CREATED:\n",
    "            node['created'][a] = element.get(a)\n",
    "        elif a in POS:\n",
    "            if a == 'lat':\n",
    "                node['pos'].insert(0,float(element.get('lat')))\n",
    "            elif a == 'lon':\n",
    "                node['pos'].append(float(element.get('lon')))\n",
    "        else:\n",
    "            node[a] = element.get(a)\n",
    "    return node"
   ]
  },
  {
   "cell_type": "code",
   "execution_count": 303,
   "metadata": {
    "collapsed": false
   },
   "outputs": [],
   "source": [
    "\"\"\"\n",
    "Input: xml etree ElementTree Element such as a 'node' or 'way', which has\n",
    "attributes and sub-elements such as 'tag' or 'nd'\n",
    "\n",
    "Output: \n",
    "addr_d: dictionary with field 'address', \n",
    "which is a dictionary containing fields such as\n",
    "street, housenumber, state, postcode\n",
    "\n",
    "other_d: dictionary with fields. \n",
    "Fields may also be dictionaries and denoted with the suffix '_collection'.\n",
    "\n",
    "ndref_l: list of node references\n",
    "\"\"\"\n",
    "def collect_sub(element):\n",
    "    sub_l = [c for c in element.getchildren()]\n",
    "    addr_d = defaultdict(dict)\n",
    "    ndref_l = []\n",
    "    other_d = defaultdict(dict)\n",
    "    \n",
    "    for s in sub_l:\n",
    "        if s.tag == 'tag':\n",
    "            key = s.get('k')\n",
    "            m = problemchars.search(key)\n",
    "            if m:\n",
    "                continue\n",
    "            if key in reserved_field.keys():\n",
    "                key = reserved_field[key]\n",
    "            if key.startswith('addr:'):\n",
    "                key_sub = key.split(':',1)[1]\n",
    "                if key_sub.find(':') >-1:\n",
    "                    key_sub = key_sub.replace(':','_')\n",
    "                addr_d['address'][key_sub]= s.get('v')\n",
    "            else:\n",
    "                if key.find(':') > -1:\n",
    "                    (key_sup,key_sub) = key.split(':',1)\n",
    "                    #the super key may have already been set as a string\n",
    "                    #if so, modify key_sup to include _collection, to avoid overriding the string\n",
    "                    key_sup = key_sup + \"_collection\"\n",
    "                    if key_sub.find(':') >-1:\n",
    "                        key_sub = key_sub.replace(':','_')\n",
    "                    other_d[key_sup][key_sub] = s.get('v')\n",
    "                else:\n",
    "                    other_d[key] = s.get('v')\n",
    "                    \n",
    "        elif s.tag == 'nd':\n",
    "            ndref_l.append(s.get('ref'))\n",
    "        else:#if not a 'tag' or 'nd', it's not expected and won't be processed\n",
    "            pass\n",
    "    return (addr_d,other_d,ndref_l)"
   ]
  },
  {
   "cell_type": "code",
   "execution_count": 285,
   "metadata": {
    "collapsed": true
   },
   "outputs": [],
   "source": [
    "\"\"\"\n",
    "Given a dictionary containing field 'address',\n",
    "whose value is a dictionary, clean the street and postcode fields.\n",
    "Set the  housenumber, state, and postcode extension fields when the \n",
    "information can be gathered from the street and postcode fields\n",
    "Return the modified dictionary\n",
    "\"\"\"\n",
    "def clean_addr(node_d):\n",
    "    addr_d = node_d['address']\n",
    "    if not addr_d:\n",
    "        return node_d\n",
    "    #find shortened street types and replace them\n",
    "    if 'street' in addr_d.keys():\n",
    "        for abbrev, word in street_type_d.items():\n",
    "            if addr_d['street'].endswith(abbrev):\n",
    "                addr_d['street'] = word.join(addr_d['street'].rsplit(abbrev,1))\n",
    "        for abbrev, word in abbrev_word_d.items():\n",
    "            if addr_d['street'].find(abbrev) > -1:\n",
    "                addr_d['street'] = addr_d['street'].replace(abbrev,word)\n",
    "        #if street name is preceded by a housenumber (and not 1st, 2nd, 3rd 4th street), save this as housenumber field\n",
    "        m = starts_numeric_re.search(addr_d['street'])\n",
    "        n = numbered_street_re.search(addr_d['street'])\n",
    "        if m and not n:\n",
    "            housenum = m.group()\n",
    "            addr_d['street'] = addr_d['street'].split(housenum,1)[1].strip()\n",
    "            if 'housenum' not in addr_d.keys():\n",
    "                addr_d['housenum'] = housenum       \n",
    "    #clean postcode\n",
    "    if 'postcode' in addr_d.keys():\n",
    "        (state, post, ext) = (None,None,None)    \n",
    "        if addr_d['postcode'].find('-') >-1:\n",
    "            m = post_ext_re.search(addr_d['postcode'])\n",
    "            if m:\n",
    "                if m.group('state'):\n",
    "                    state = m.group('state').upper()\n",
    "                if m.group('post'):\n",
    "                    post = m.group('post')\n",
    "                if m.group('ext'):\n",
    "                    ext = m.group('ext')\n",
    "        else:\n",
    "            m = post_re.search(addr_d['postcode'])\n",
    "            if m:\n",
    "                if m.group('state'):\n",
    "                    state = m.group('state').upper()\n",
    "                if m.group('post'):\n",
    "                    post = m.group('post')\n",
    "\n",
    "        if post:\n",
    "            addr_d['postcode'] = post\n",
    "        if state and 'state' not in addr_d.keys():\n",
    "            addr_d['state'] = state\n",
    "        if ext:\n",
    "            addr_d['postcode_ext'] = ext\n",
    "\n",
    "    node_d['address'] = addr_d\n",
    "    return node_d"
   ]
  },
  {
   "cell_type": "code",
   "execution_count": 315,
   "metadata": {
    "collapsed": true
   },
   "outputs": [],
   "source": [
    "def clean_other(other_d):\n",
    "    if 'amenity' in other_d.keys():\n",
    "        k = other_d['amenity']\n",
    "        if k in amenity_d.keys():\n",
    "            other_d['amenity'] = amenity_d[k]\n",
    "    if 'operator' in other_d.keys():\n",
    "        k = other_d['operator']\n",
    "        if k in operator_d.keys():\n",
    "            other_d['operator'] = operator_d[k]\n",
    "    if 'lanes' in other_d.keys():\n",
    "        try:\n",
    "            other_d['lanes'] = int(other_d['lanes'])\n",
    "        except ValueError:\n",
    "            print 'tried to convert {} to integer'.format(other_d['lanes'])\n",
    "    return other_d"
   ]
  },
  {
   "cell_type": "code",
   "execution_count": 194,
   "metadata": {
    "collapsed": true
   },
   "outputs": [],
   "source": [
    "\"\"\"\n",
    "Some default fields may not get used, so delete them if empty\n",
    "\"\"\"\n",
    "def remove_unused(d):\n",
    "    if not d['created']:\n",
    "        del d['created']\n",
    "    if not d['pos']:\n",
    "        del d['pos']\n",
    "    if not d['address']:\n",
    "        del d['address']\n",
    "    if not d['node_refs']:\n",
    "        del d['node_refs']\n",
    "    return d"
   ]
  },
  {
   "cell_type": "code",
   "execution_count": 284,
   "metadata": {
    "collapsed": true
   },
   "outputs": [],
   "source": [
    "\"\"\"\n",
    "Use during debugging to find a specific element \n",
    "and exit iteration when found\n",
    "\"\"\"\n",
    "def seek_elem(element):\n",
    "    if element.tag == 'node' and element.get('id') == '53023690':\n",
    "        return element\n",
    "    else:\n",
    "        return None"
   ]
  },
  {
   "cell_type": "code",
   "execution_count": 316,
   "metadata": {
    "collapsed": false
   },
   "outputs": [],
   "source": [
    "if __name__ == \"__main__\":\n",
    "    process_map(osm_file)"
   ]
  },
  {
   "cell_type": "code",
   "execution_count": null,
   "metadata": {
    "collapsed": true
   },
   "outputs": [],
   "source": []
  },
  {
   "cell_type": "markdown",
   "metadata": {},
   "source": [
    "Create smaller sample file of the osm data"
   ]
  },
  {
   "cell_type": "code",
   "execution_count": 317,
   "metadata": {
    "collapsed": true
   },
   "outputs": [],
   "source": [
    "#!/usr/bin/env python\n",
    "# -*- coding: utf-8 -*-\n",
    "\n",
    "import xml.etree.ElementTree as ET  # Use cElementTree or lxml if too slow\n",
    "\n",
    "OSM_FILE = \"berkeley.osm\"  # Replace this with your osm file\n",
    "SAMPLE_FILE = \"berkeley_sample.osm\"\n",
    "\n",
    "k = 10 # Parameter: take every k-th top level element\n",
    "\n",
    "def get_element(osm_file, tags=('node', 'way', 'relation')):\n",
    "    \"\"\"Yield element if it is the right type of tag\n",
    "\n",
    "    Reference:\n",
    "    http://stackoverflow.com/questions/3095434/inserting-newlines-in-xml-file-generated-via-xml-etree-elementtree-in-python\n",
    "    \"\"\"\n",
    "    context = iter(ET.iterparse(osm_file, events=('start', 'end')))\n",
    "    _, root = next(context)\n",
    "    for event, elem in context:\n",
    "        if event == 'end' and elem.tag in tags:\n",
    "            yield elem\n",
    "            root.clear()\n",
    "\n",
    "\n",
    "with open(SAMPLE_FILE, 'wb') as output:\n",
    "    output.write('<?xml version=\"1.0\" encoding=\"UTF-8\"?>\\n')\n",
    "    output.write('<osm>\\n  ')\n",
    "\n",
    "    # Write every kth top level element\n",
    "    for i, element in enumerate(get_element(OSM_FILE)):\n",
    "        if i % k == 0:\n",
    "            output.write(ET.tostring(element, encoding='utf-8'))\n",
    "\n",
    "    output.write('</osm>')"
   ]
  },
  {
   "cell_type": "code",
   "execution_count": null,
   "metadata": {
    "collapsed": true
   },
   "outputs": [],
   "source": []
  }
 ],
 "metadata": {
  "kernelspec": {
   "display_name": "Python [Root]",
   "language": "python",
   "name": "Python [Root]"
  },
  "language_info": {
   "codemirror_mode": {
    "name": "ipython",
    "version": 2
   },
   "file_extension": ".py",
   "mimetype": "text/x-python",
   "name": "python",
   "nbconvert_exporter": "python",
   "pygments_lexer": "ipython2",
   "version": "2.7.12"
  }
 },
 "nbformat": 4,
 "nbformat_minor": 0
}
